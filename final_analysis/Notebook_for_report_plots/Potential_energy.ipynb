{
 "cells": [
  {
   "cell_type": "code",
   "execution_count": 1,
   "id": "68886998-98f6-473c-b78d-4bc43309d13b",
   "metadata": {},
   "outputs": [],
   "source": [
    "import numpy as np\n",
    "import scipy as sp\n",
    "import matplotlib.pyplot as plt\n",
    "import sys,json,os\n",
    "sys.path.append('../../')\n",
    "import Project.profiles as pp\n",
    "import Project.new_profiles as pnp\n",
    "from Project.constants import Constants as pc\n",
    "from getdist import MCSamples, plots\n",
    "from tqdm.notebook import tqdm as tqdm\n"
   ]
  },
  {
   "cell_type": "markdown",
   "id": "7e3154e0-9b7a-4148-9df4-9fea91cd0301",
   "metadata": {},
   "source": [
    "Msun/kpc^3 * Msun * kpc^2 * M_sun^-1 (km/s)^2 kpc  \n",
    "Msun * kpc^-3 * kpc^2 (km/s)^2 kpc  \n",
    "Msun * (km/s)^2   \n",
    "[Msun * (km/s)^2] * pc.M_sun ==> kg (km/s)^2  \n",
    "[Msun * (m/s)^2] * pc.Msun * 1e6 ==> kg m^2 s^-2  \n",
    "joule = F*d = N*m = kg m s^-2 * m = kg m^2 s^-2  \n",
    "Therefore,  \n",
    "PE in ergs = PE * pc.Msun * 1e6 * pc.ergs  "
   ]
  },
  {
   "cell_type": "code",
   "execution_count": null,
   "id": "edf2a404-ae95-473a-8f4f-e265e6cde4b5",
   "metadata": {},
   "outputs": [],
   "source": [
    "Find the potential energy and difference. \n",
    "Get SNe feedback energy\n",
    "Get SIDM corss-section\n",
    "Get surface density\n",
    "Make DC14 model and fit with our cored profile.m"
   ]
  },
  {
   "cell_type": "code",
   "execution_count": 32,
   "id": "10ea0e28-05b1-427f-aa30-c59dd052fe6a",
   "metadata": {},
   "outputs": [],
   "source": [
    "# sparcd = json.load(open('../../obs_RC_v4/Output/result_dicts/sparc_fit_dict_comb.json','r'))\n",
    "sparcd = json.load(open('../Output/sparc_new_dict.json','r'))"
   ]
  },
  {
   "cell_type": "code",
   "execution_count": 33,
   "id": "1286499b-2a68-42ae-9bf3-c3d56cc239db",
   "metadata": {
    "collapsed": true,
    "jupyter": {
     "outputs_hidden": true
    },
    "tags": []
   },
   "outputs": [
    {
     "data": {
      "application/vnd.jupyter.widget-view+json": {
       "model_id": "a3ef866cd0324b93a298bfc6185f07a0",
       "version_major": 2,
       "version_minor": 0
      },
      "text/plain": [
       "  0%|          | 0/2 [00:00<?, ?it/s]"
      ]
     },
     "metadata": {},
     "output_type": "display_data"
    },
    {
     "data": {
      "application/vnd.jupyter.widget-view+json": {
       "model_id": "018de49e1f4c42089fd1440d723cc765",
       "version_major": 2,
       "version_minor": 0
      },
      "text/plain": [
       "  0%|          | 0/135 [00:00<?, ?it/s]"
      ]
     },
     "metadata": {},
     "output_type": "display_data"
    },
    {
     "name": "stdout",
     "output_type": "stream",
     "text": [
      "Removed no burn in\n"
     ]
    },
    {
     "name": "stderr",
     "output_type": "stream",
     "text": [
      "WARNING:root:auto bandwidth for c2 very small or failed (h=0.0006953171773467957,N_eff=4983.0). Using fallback (h=0.025964782236263168)\n",
      "WARNING:root:auto bandwidth for r1 very small or failed (h=0.0006045428451537756,N_eff=4983.0). Using fallback (h=0.016737025596420183)\n",
      "WARNING:root:auto bandwidth for lPE very small or failed (h=0.0006656065223946626,N_eff=4983.0). Using fallback (h=0.009569623985125023)\n"
     ]
    },
    {
     "name": "stdout",
     "output_type": "stream",
     "text": [
      "Removed no burn in\n"
     ]
    },
    {
     "name": "stderr",
     "output_type": "stream",
     "text": [
      "WARNING:root:auto bandwidth for c2 very small or failed (h=0.0009648547583613707,N_eff=9909.0). Using fallback (h=0.02524249414503184)\n",
      "WARNING:root:auto bandwidth for lPE very small or failed (h=0.0008818158940283106,N_eff=9909.0). Using fallback (h=0.011123182439470542)\n"
     ]
    },
    {
     "name": "stdout",
     "output_type": "stream",
     "text": [
      "Removed no burn in\n"
     ]
    },
    {
     "name": "stderr",
     "output_type": "stream",
     "text": [
      "WARNING:root:auto bandwidth for r1 very small or failed (h=0.00082491999579547,N_eff=9870.0). Using fallback (h=0.018947895776875844)\n",
      "WARNING:root:auto bandwidth for lPE very small or failed (h=0.0008341187760947733,N_eff=9870.0). Using fallback (h=0.009503525063263258)\n"
     ]
    },
    {
     "name": "stdout",
     "output_type": "stream",
     "text": [
      "Removed no burn in\n",
      "Removed no burn in\n"
     ]
    },
    {
     "name": "stderr",
     "output_type": "stream",
     "text": [
      "WARNING:root:auto bandwidth for lm very small or failed (h=0.0007019886572003681,N_eff=6041.0). Using fallback (h=0.02270335132944049)\n",
      "WARNING:root:auto bandwidth for r1 very small or failed (h=0.0006903667248841135,N_eff=6041.0). Using fallback (h=0.025316643224311382)\n",
      "WARNING:root:auto bandwidth for lPE very small or failed (h=0.0006324861138038026,N_eff=6041.0). Using fallback (h=0.023242585537992463)\n",
      "WARNING:root:auto bandwidth for ldPE very small or failed (h=0.000754698060074777,N_eff=6041.0). Using fallback (h=0.02400874012668758)\n"
     ]
    },
    {
     "name": "stdout",
     "output_type": "stream",
     "text": [
      "Removed no burn in\n"
     ]
    },
    {
     "name": "stderr",
     "output_type": "stream",
     "text": [
      "WARNING:root:auto bandwidth for c2 very small or failed (h=0.0006412999215819537,N_eff=6118.0). Using fallback (h=0.023804985919196213)\n",
      "WARNING:root:auto bandwidth for lPE very small or failed (h=0.0006630256091511287,N_eff=6118.0). Using fallback (h=0.01568962433524336)\n"
     ]
    },
    {
     "name": "stdout",
     "output_type": "stream",
     "text": [
      "Removed no burn in\n"
     ]
    },
    {
     "name": "stderr",
     "output_type": "stream",
     "text": [
      "WARNING:root:auto bandwidth for lm very small or failed (h=0.0007072946584783998,N_eff=6863.0). Using fallback (h=0.010571645147611807)\n",
      "WARNING:root:auto bandwidth for c2 very small or failed (h=0.0006719674786095636,N_eff=6863.0). Using fallback (h=0.0201641052224398)\n",
      "WARNING:root:auto bandwidth for r1 very small or failed (h=0.0006651283796046389,N_eff=6863.0). Using fallback (h=0.02124154862406635)\n",
      "WARNING:root:auto bandwidth for lPE very small or failed (h=0.0006858946051430526,N_eff=6863.0). Using fallback (h=0.010349497923815393)\n"
     ]
    },
    {
     "name": "stdout",
     "output_type": "stream",
     "text": [
      "Removed no burn in\n"
     ]
    },
    {
     "name": "stderr",
     "output_type": "stream",
     "text": [
      "WARNING:root:auto bandwidth for c2 very small or failed (h=0.0006640421088520647,N_eff=7992.0). Using fallback (h=0.025392179760634945)\n",
      "WARNING:root:auto bandwidth for yd very small or failed (h=0.0011235194494034074,N_eff=7992.0). Using fallback (h=0.024563786245118277)\n",
      "WARNING:root:auto bandwidth for lPE very small or failed (h=0.000748915659876621,N_eff=7992.0). Using fallback (h=0.02759962017810285)\n"
     ]
    },
    {
     "name": "stdout",
     "output_type": "stream",
     "text": [
      "Removed no burn in\n"
     ]
    },
    {
     "name": "stderr",
     "output_type": "stream",
     "text": [
      "WARNING:root:auto bandwidth for r1 very small or failed (h=0.0007415694949972205,N_eff=8696.0). Using fallback (h=0.016051505937132855)\n"
     ]
    },
    {
     "name": "stdout",
     "output_type": "stream",
     "text": [
      "Removed no burn in\n",
      "Removed no burn in\n"
     ]
    },
    {
     "name": "stderr",
     "output_type": "stream",
     "text": [
      "WARNING:root:auto bandwidth for lPE very small or failed (h=0.000780921290946391,N_eff=8800.0). Using fallback (h=0.01446181760960929)\n"
     ]
    },
    {
     "name": "stdout",
     "output_type": "stream",
     "text": [
      "Removed no burn in\n"
     ]
    },
    {
     "name": "stderr",
     "output_type": "stream",
     "text": [
      "WARNING:root:auto bandwidth for c2 very small or failed (h=0.0005276698558289664,N_eff=10061.0). Using fallback (h=0.020196739806713104)\n",
      "WARNING:root:auto bandwidth for yd very small or failed (h=0.0005464235577277201,N_eff=10061.0). Using fallback (h=0.020525498702424254)\n",
      "WARNING:root:auto bandwidth for lPE very small or failed (h=0.0005598275798889619,N_eff=10061.0). Using fallback (h=0.020303262298484497)\n"
     ]
    },
    {
     "name": "stdout",
     "output_type": "stream",
     "text": [
      "Removed no burn in\n"
     ]
    },
    {
     "name": "stderr",
     "output_type": "stream",
     "text": [
      "WARNING:root:auto bandwidth for lm very small or failed (h=0.0006066634391210958,N_eff=10588.0). Using fallback (h=0.021200982970791378)\n",
      "WARNING:root:auto bandwidth for c2 very small or failed (h=0.0005977596187324415,N_eff=10588.0). Using fallback (h=0.0209521661164464)\n",
      "WARNING:root:auto bandwidth for yd very small or failed (h=0.0005507813674968382,N_eff=10588.0). Using fallback (h=0.02244193248718251)\n",
      "WARNING:root:auto bandwidth for yb very small or failed (h=0.0005418463032627359,N_eff=10588.0). Using fallback (h=0.021319316479833723)\n",
      "WARNING:root:auto bandwidth for lPE very small or failed (h=0.0006393659271975323,N_eff=10588.0). Using fallback (h=0.021645568339392074)\n",
      "WARNING:root:auto bandwidth for ldPE very small or failed (h=0.0005375180579439725,N_eff=10588.0). Using fallback (h=0.02053555381110875)\n"
     ]
    },
    {
     "name": "stdout",
     "output_type": "stream",
     "text": [
      "Removed no burn in\n"
     ]
    },
    {
     "name": "stderr",
     "output_type": "stream",
     "text": [
      "WARNING:root:auto bandwidth for lm very small or failed (h=0.0006589009270874355,N_eff=4656.0). Using fallback (h=0.02009697551685015)\n",
      "WARNING:root:auto bandwidth for c2 very small or failed (h=0.0006312393668702792,N_eff=4656.0). Using fallback (h=0.026098580733036246)\n",
      "WARNING:root:auto bandwidth for lPE very small or failed (h=0.0007012884830409242,N_eff=4656.0). Using fallback (h=0.020010724310322164)\n"
     ]
    },
    {
     "name": "stdout",
     "output_type": "stream",
     "text": [
      "Removed no burn in\n"
     ]
    },
    {
     "name": "stderr",
     "output_type": "stream",
     "text": [
      "WARNING:root:auto bandwidth for r1 very small or failed (h=0.0007306385523800478,N_eff=4936.0). Using fallback (h=0.006875718787339094)\n",
      "WARNING:root:auto bandwidth for lPE very small or failed (h=0.0006423358374913712,N_eff=4936.0). Using fallback (h=0.01577942676197961)\n"
     ]
    },
    {
     "name": "stdout",
     "output_type": "stream",
     "text": [
      "Removed no burn in\n"
     ]
    },
    {
     "name": "stderr",
     "output_type": "stream",
     "text": [
      "WARNING:root:auto bandwidth for lm very small or failed (h=0.0013361612572258736,N_eff=5496.0). Using fallback (h=0.013097366347308513)\n",
      "WARNING:root:auto bandwidth for yd very small or failed (h=0.0006975406532597154,N_eff=5496.0). Using fallback (h=0.02114330676312388)\n",
      "WARNING:root:auto bandwidth for lPE very small or failed (h=0.0007871460049718858,N_eff=5496.0). Using fallback (h=0.013400243673815846)\n"
     ]
    },
    {
     "name": "stdout",
     "output_type": "stream",
     "text": [
      "Removed no burn in\n"
     ]
    },
    {
     "name": "stderr",
     "output_type": "stream",
     "text": [
      "WARNING:root:auto bandwidth for c2 very small or failed (h=0.0007102856668257664,N_eff=6127.0). Using fallback (h=0.022783376544361994)\n",
      "WARNING:root:auto bandwidth for r1 very small or failed (h=0.0006478828469641707,N_eff=6127.0). Using fallback (h=0.020980400996821892)\n",
      "WARNING:root:auto bandwidth for lPE very small or failed (h=0.0006201610164109178,N_eff=6127.0). Using fallback (h=0.010951475314184113)\n",
      "WARNING:root:auto bandwidth for ldPE very small or failed (h=0.0007561871834068821,N_eff=6127.0). Using fallback (h=0.017506937704753575)\n"
     ]
    },
    {
     "name": "stdout",
     "output_type": "stream",
     "text": [
      "Removed no burn in\n"
     ]
    },
    {
     "name": "stderr",
     "output_type": "stream",
     "text": [
      "WARNING:root:auto bandwidth for yd very small or failed (h=0.0006926088058513696,N_eff=6319.0). Using fallback (h=0.021735107036230897)\n"
     ]
    },
    {
     "name": "stdout",
     "output_type": "stream",
     "text": [
      "Removed no burn in\n"
     ]
    },
    {
     "name": "stderr",
     "output_type": "stream",
     "text": [
      "WARNING:root:auto bandwidth for ldPE very small or failed (h=0.0007237529702505715,N_eff=8629.0). Using fallback (h=0.021292446479983157)\n"
     ]
    },
    {
     "name": "stdout",
     "output_type": "stream",
     "text": [
      "Removed no burn in\n",
      "Removed no burn in\n"
     ]
    },
    {
     "name": "stderr",
     "output_type": "stream",
     "text": [
      "WARNING:root:auto bandwidth for lm very small or failed (h=0.0005223743702152789,N_eff=8379.0). Using fallback (h=0.026066779636209316)\n",
      "WARNING:root:auto bandwidth for c2 very small or failed (h=0.0005924606471702593,N_eff=8379.0). Using fallback (h=0.018969556757076362)\n",
      "WARNING:root:auto bandwidth for r1 very small or failed (h=0.0005268251999122264,N_eff=8379.0). Using fallback (h=0.023956476644601377)\n",
      "WARNING:root:auto bandwidth for lPE very small or failed (h=0.0005829092567643218,N_eff=8379.0). Using fallback (h=0.02624339217996339)\n",
      "WARNING:root:auto bandwidth for ldPE very small or failed (h=0.0006110710550594035,N_eff=8379.0). Using fallback (h=0.015186955024024677)\n"
     ]
    },
    {
     "name": "stdout",
     "output_type": "stream",
     "text": [
      "Removed no burn in\n"
     ]
    },
    {
     "name": "stderr",
     "output_type": "stream",
     "text": [
      "WARNING:root:auto bandwidth for c2 very small or failed (h=0.00081398494195739,N_eff=5387.0). Using fallback (h=0.022499321333220544)\n"
     ]
    },
    {
     "name": "stdout",
     "output_type": "stream",
     "text": [
      "Removed no burn in\n"
     ]
    },
    {
     "name": "stderr",
     "output_type": "stream",
     "text": [
      "WARNING:root:auto bandwidth for r1 very small or failed (h=0.0006429355022880947,N_eff=5870.0). Using fallback (h=0.01864089426308176)\n",
      "WARNING:root:auto bandwidth for ldPE very small or failed (h=0.0006901044255820329,N_eff=5870.0). Using fallback (h=0.02268401765418735)\n"
     ]
    },
    {
     "name": "stdout",
     "output_type": "stream",
     "text": [
      "Removed no burn in\n"
     ]
    },
    {
     "name": "stderr",
     "output_type": "stream",
     "text": [
      "WARNING:root:auto bandwidth for lm very small or failed (h=0.0008284781256688525,N_eff=7230.0). Using fallback (h=0.0072136204895687055)\n",
      "WARNING:root:auto bandwidth for yd very small or failed (h=0.0006552889349564413,N_eff=7230.0). Using fallback (h=0.02140488249357148)\n",
      "WARNING:root:auto bandwidth for lPE very small or failed (h=0.0006240525000582624,N_eff=7230.0). Using fallback (h=0.007088677196706181)\n"
     ]
    },
    {
     "name": "stdout",
     "output_type": "stream",
     "text": [
      "Removed no burn in\n"
     ]
    },
    {
     "name": "stderr",
     "output_type": "stream",
     "text": [
      "WARNING:root:auto bandwidth for lm very small or failed (h=0.0005915893928472762,N_eff=7814.0). Using fallback (h=0.010540892206662806)\n",
      "WARNING:root:auto bandwidth for c2 very small or failed (h=0.0006859474202861152,N_eff=7814.0). Using fallback (h=0.02192883146484726)\n",
      "WARNING:root:auto bandwidth for r1 very small or failed (h=0.000633537034081098,N_eff=7814.0). Using fallback (h=0.027993568180955178)\n",
      "WARNING:root:auto bandwidth for lPE very small or failed (h=0.000763871204843506,N_eff=7814.0). Using fallback (h=0.010450661097295574)\n"
     ]
    },
    {
     "name": "stdout",
     "output_type": "stream",
     "text": [
      "Removed no burn in\n"
     ]
    },
    {
     "name": "stderr",
     "output_type": "stream",
     "text": [
      "WARNING:root:auto bandwidth for lm very small or failed (h=0.0006261200567704387,N_eff=5692.0). Using fallback (h=0.02084763440654781)\n",
      "WARNING:root:auto bandwidth for lPE very small or failed (h=0.0006994194397723367,N_eff=5692.0). Using fallback (h=0.02089404256413871)\n"
     ]
    },
    {
     "name": "stdout",
     "output_type": "stream",
     "text": [
      "Removed no burn in\n"
     ]
    },
    {
     "name": "stderr",
     "output_type": "stream",
     "text": [
      "WARNING:root:auto bandwidth for c2 very small or failed (h=0.0005990353262912044,N_eff=6154.0). Using fallback (h=0.024808214327770077)\n",
      "WARNING:root:auto bandwidth for lPE very small or failed (h=0.0006720172174960287,N_eff=6154.0). Using fallback (h=0.013092323219923891)\n",
      "WARNING:root:auto bandwidth for ldPE very small or failed (h=0.0006828333968432233,N_eff=6154.0). Using fallback (h=0.006986092578973248)\n"
     ]
    },
    {
     "name": "stdout",
     "output_type": "stream",
     "text": [
      "Removed no burn in\n",
      "Removed no burn in\n"
     ]
    },
    {
     "name": "stderr",
     "output_type": "stream",
     "text": [
      "WARNING:root:auto bandwidth for c2 very small or failed (h=0.0014006615388440515,N_eff=5470.0). Using fallback (h=0.02529418246897957)\n",
      "WARNING:root:auto bandwidth for ldPE very small or failed (h=0.0008151088092772873,N_eff=5470.0). Using fallback (h=0.01986196321627872)\n"
     ]
    },
    {
     "data": {
      "application/vnd.jupyter.widget-view+json": {
       "model_id": "0b57a63cb6e648ada4d2de92c3d8898e",
       "version_major": 2,
       "version_minor": 0
      },
      "text/plain": [
       "  0%|          | 0/135 [00:00<?, ?it/s]"
      ]
     },
     "metadata": {},
     "output_type": "display_data"
    },
    {
     "name": "stdout",
     "output_type": "stream",
     "text": [
      "Removed no burn in\n"
     ]
    },
    {
     "name": "stderr",
     "output_type": "stream",
     "text": [
      "WARNING:root:auto bandwidth for lm very small or failed (h=0.0006785501384531698,N_eff=11391.0). Using fallback (h=0.022380414661327463)\n",
      "WARNING:root:auto bandwidth for lPE very small or failed (h=0.0006779487796241406,N_eff=11391.0). Using fallback (h=0.02239499898703669)\n"
     ]
    },
    {
     "name": "stdout",
     "output_type": "stream",
     "text": [
      "Removed no burn in\n"
     ]
    },
    {
     "name": "stderr",
     "output_type": "stream",
     "text": [
      "WARNING:root:auto bandwidth for r1 very small or failed (h=0.000786869464622654,N_eff=6556.0). Using fallback (h=0.01838587847040008)\n",
      "WARNING:root:auto bandwidth for ldPE very small or failed (h=0.0007825932803006507,N_eff=6556.0). Using fallback (h=0.02115437752061879)\n"
     ]
    },
    {
     "name": "stdout",
     "output_type": "stream",
     "text": [
      "Removed no burn in\n",
      "Removed no burn in\n",
      "Removed no burn in\n"
     ]
    },
    {
     "name": "stderr",
     "output_type": "stream",
     "text": [
      "WARNING:root:auto bandwidth for yd very small or failed (h=0.00086919302288798,N_eff=9693.0). Using fallback (h=0.020652518276463458)\n"
     ]
    },
    {
     "name": "stdout",
     "output_type": "stream",
     "text": [
      "Removed no burn in\n"
     ]
    },
    {
     "name": "stderr",
     "output_type": "stream",
     "text": [
      "WARNING:root:auto bandwidth for lm very small or failed (h=0.0007697120235117049,N_eff=6842.0). Using fallback (h=0.015970309592019616)\n",
      "WARNING:root:auto bandwidth for r1 very small or failed (h=0.0006333150527254688,N_eff=6842.0). Using fallback (h=0.02177420538038516)\n",
      "WARNING:root:auto bandwidth for lPE very small or failed (h=0.0006277353308833237,N_eff=6842.0). Using fallback (h=0.01596743974954142)\n",
      "WARNING:root:auto bandwidth for ldPE very small or failed (h=0.000656844282084899,N_eff=6842.0). Using fallback (h=0.017311464077893416)\n"
     ]
    },
    {
     "name": "stdout",
     "output_type": "stream",
     "text": [
      "Removed no burn in\n"
     ]
    },
    {
     "name": "stderr",
     "output_type": "stream",
     "text": [
      "WARNING:root:auto bandwidth for c2 very small or failed (h=0.0005716803670196588,N_eff=11750.0). Using fallback (h=0.01988241266025866)\n"
     ]
    },
    {
     "name": "stdout",
     "output_type": "stream",
     "text": [
      "Removed no burn in\n"
     ]
    },
    {
     "name": "stderr",
     "output_type": "stream",
     "text": [
      "WARNING:root:auto bandwidth for c2 very small or failed (h=0.0005658057391237538,N_eff=7393.0). Using fallback (h=0.021931738571237938)\n",
      "WARNING:root:auto bandwidth for yd very small or failed (h=0.0005501370654913148,N_eff=7393.0). Using fallback (h=0.021056402239458375)\n",
      "WARNING:root:auto bandwidth for lPE very small or failed (h=0.000539333910064869,N_eff=7393.0). Using fallback (h=0.019386426785464872)\n",
      "WARNING:root:auto bandwidth for ldPE very small or failed (h=0.0005121717072265418,N_eff=7393.0). Using fallback (h=0.01734655890270133)\n"
     ]
    },
    {
     "name": "stdout",
     "output_type": "stream",
     "text": [
      "Removed no burn in\n",
      "Removed no burn in\n"
     ]
    },
    {
     "name": "stderr",
     "output_type": "stream",
     "text": [
      "WARNING:root:auto bandwidth for c2 very small or failed (h=0.0007061657667769404,N_eff=5269.0). Using fallback (h=0.025162973661552304)\n",
      "WARNING:root:auto bandwidth for r1 very small or failed (h=0.0008358738237478174,N_eff=5269.0). Using fallback (h=0.02057214505438547)\n",
      "WARNING:root:auto bandwidth for yd very small or failed (h=0.0007545279201973868,N_eff=5269.0). Using fallback (h=0.022957818422003583)\n",
      "WARNING:root:auto bandwidth for lPE very small or failed (h=0.0007754562610037342,N_eff=5269.0). Using fallback (h=0.02253329675559225)\n"
     ]
    },
    {
     "name": "stdout",
     "output_type": "stream",
     "text": [
      "Removed no burn in\n",
      "Removed no burn in\n"
     ]
    },
    {
     "name": "stderr",
     "output_type": "stream",
     "text": [
      "WARNING:root:auto bandwidth for r1 very small or failed (h=0.0006441827349573546,N_eff=5962.0). Using fallback (h=0.020168747459142027)\n",
      "WARNING:root:auto bandwidth for yd very small or failed (h=0.0006537163927487716,N_eff=5962.0). Using fallback (h=0.0204687406561373)\n",
      "WARNING:root:auto bandwidth for ldPE very small or failed (h=0.0007207917851672725,N_eff=5962.0). Using fallback (h=0.006079102311075272)\n"
     ]
    },
    {
     "name": "stdout",
     "output_type": "stream",
     "text": [
      "Removed no burn in\n",
      "Removed no burn in\n",
      "Removed no burn in\n"
     ]
    },
    {
     "name": "stderr",
     "output_type": "stream",
     "text": [
      "WARNING:root:auto bandwidth for c2 very small or failed (h=0.0007532630025203857,N_eff=4765.0). Using fallback (h=0.026929011368093878)\n",
      "WARNING:root:auto bandwidth for yd very small or failed (h=0.0008313824126231096,N_eff=4765.0). Using fallback (h=0.02681460876358865)\n",
      "WARNING:root:auto bandwidth for lPE very small or failed (h=0.000658646166806555,N_eff=4765.0). Using fallback (h=0.02327360229849718)\n"
     ]
    },
    {
     "name": "stdout",
     "output_type": "stream",
     "text": [
      "Removed no burn in\n"
     ]
    },
    {
     "name": "stderr",
     "output_type": "stream",
     "text": [
      "WARNING:root:auto bandwidth for lm very small or failed (h=0.0006692137732001175,N_eff=5518.0). Using fallback (h=0.015918529971311726)\n",
      "WARNING:root:auto bandwidth for r1 very small or failed (h=0.0007267766282373938,N_eff=5518.0). Using fallback (h=0.020773682084732445)\n"
     ]
    },
    {
     "name": "stdout",
     "output_type": "stream",
     "text": [
      "Removed no burn in\n"
     ]
    },
    {
     "name": "stderr",
     "output_type": "stream",
     "text": [
      "WARNING:root:auto bandwidth for yd very small or failed (h=0.0008449599469760903,N_eff=7986.0). Using fallback (h=0.021772969476231765)\n"
     ]
    },
    {
     "name": "stdout",
     "output_type": "stream",
     "text": [
      "Removed no burn in\n",
      "Removed no burn in\n"
     ]
    },
    {
     "name": "stderr",
     "output_type": "stream",
     "text": [
      "WARNING:root:auto bandwidth for lm very small or failed (h=0.0005667124950508516,N_eff=8088.0). Using fallback (h=0.0148160986273993)\n",
      "WARNING:root:auto bandwidth for yd very small or failed (h=0.0006617041607588008,N_eff=8088.0). Using fallback (h=0.02172043724826508)\n"
     ]
    },
    {
     "name": "stdout",
     "output_type": "stream",
     "text": [
      "Removed no burn in\n"
     ]
    },
    {
     "name": "stderr",
     "output_type": "stream",
     "text": [
      "WARNING:root:auto bandwidth for lm very small or failed (h=0.0006203134847133683,N_eff=7936.0). Using fallback (h=0.012590310684778647)\n",
      "WARNING:root:auto bandwidth for r1 very small or failed (h=0.0007038787638326981,N_eff=7936.0). Using fallback (h=0.02673669660730879)\n",
      "WARNING:root:auto bandwidth for yd very small or failed (h=0.0007094428769895937,N_eff=7936.0). Using fallback (h=0.02230140227016333)\n",
      "WARNING:root:auto bandwidth for lPE very small or failed (h=0.0007704273088559344,N_eff=7936.0). Using fallback (h=0.011618938101571663)\n",
      "WARNING:root:auto bandwidth for ldPE very small or failed (h=0.0007560099587069362,N_eff=7936.0). Using fallback (h=0.01188799271974532)\n"
     ]
    },
    {
     "name": "stdout",
     "output_type": "stream",
     "text": [
      "Removed no burn in\n",
      "Removed no burn in\n"
     ]
    },
    {
     "name": "stderr",
     "output_type": "stream",
     "text": [
      "WARNING:root:auto bandwidth for r1 very small or failed (h=0.0010151218255977405,N_eff=4382.0). Using fallback (h=0.025782892490866398)\n"
     ]
    },
    {
     "name": "stdout",
     "output_type": "stream",
     "text": [
      "Removed no burn in\n",
      "Removed no burn in\n",
      "Removed no burn in\n",
      "Removed no burn in\n"
     ]
    },
    {
     "name": "stderr",
     "output_type": "stream",
     "text": [
      "WARNING:root:auto bandwidth for c2 very small or failed (h=0.0007433448756230813,N_eff=4771.0). Using fallback (h=0.024051995618587993)\n"
     ]
    },
    {
     "name": "stdout",
     "output_type": "stream",
     "text": [
      "Removed no burn in\n",
      "Removed no burn in\n"
     ]
    },
    {
     "name": "stderr",
     "output_type": "stream",
     "text": [
      "WARNING:root:auto bandwidth for lm very small or failed (h=0.0007581674310213587,N_eff=9126.0). Using fallback (h=0.01765151739251437)\n"
     ]
    },
    {
     "name": "stdout",
     "output_type": "stream",
     "text": [
      "Removed no burn in\n"
     ]
    },
    {
     "name": "stderr",
     "output_type": "stream",
     "text": [
      "WARNING:root:auto bandwidth for c2 very small or failed (h=0.0014940143752837293,N_eff=4178.0). Using fallback (h=0.024694197707529803)\n"
     ]
    },
    {
     "name": "stdout",
     "output_type": "stream",
     "text": [
      "Removed no burn in\n",
      "Removed no burn in\n",
      "Removed no burn in\n"
     ]
    },
    {
     "name": "stderr",
     "output_type": "stream",
     "text": [
      "WARNING:root:auto bandwidth for lm very small or failed (h=0.0007069657723519367,N_eff=4954.0). Using fallback (h=0.01976409416232578)\n"
     ]
    },
    {
     "name": "stdout",
     "output_type": "stream",
     "text": [
      "Removed no burn in\n",
      "Removed no burn in\n"
     ]
    },
    {
     "name": "stderr",
     "output_type": "stream",
     "text": [
      "WARNING:root:auto bandwidth for c2 very small or failed (h=0.0008797599298265527,N_eff=5616.0). Using fallback (h=0.023809404013704533)\n",
      "WARNING:root:auto bandwidth for r1 very small or failed (h=0.001651842799496667,N_eff=5616.0). Using fallback (h=0.026219659704955375)\n",
      "WARNING:root:auto bandwidth for ldPE very small or failed (h=0.0011093584950416606,N_eff=5616.0). Using fallback (h=0.020579337618315943)\n"
     ]
    },
    {
     "name": "stdout",
     "output_type": "stream",
     "text": [
      "Removed no burn in\n",
      "Removed no burn in\n"
     ]
    },
    {
     "name": "stderr",
     "output_type": "stream",
     "text": [
      "WARNING:root:auto bandwidth for lPE very small or failed (h=0.0007016935154934412,N_eff=4934.0). Using fallback (h=0.023408382718024458)\n"
     ]
    },
    {
     "name": "stdout",
     "output_type": "stream",
     "text": [
      "Removed no burn in\n"
     ]
    },
    {
     "name": "stderr",
     "output_type": "stream",
     "text": [
      "WARNING:root:auto bandwidth for lm very small or failed (h=0.000457526186358619,N_eff=26475.0). Using fallback (h=0.019108388717076957)\n",
      "WARNING:root:auto bandwidth for c2 very small or failed (h=0.0005083849000120897,N_eff=26475.0). Using fallback (h=0.015359659500373574)\n",
      "WARNING:root:auto bandwidth for yd very small or failed (h=0.0004706822477375578,N_eff=26475.0). Using fallback (h=0.019178275773046743)\n",
      "WARNING:root:auto bandwidth for lPE very small or failed (h=0.000500200955948248,N_eff=26475.0). Using fallback (h=0.019196643747818373)\n"
     ]
    },
    {
     "name": "stdout",
     "output_type": "stream",
     "text": [
      "Removed no burn in\n"
     ]
    },
    {
     "name": "stderr",
     "output_type": "stream",
     "text": [
      "WARNING:root:auto bandwidth for lm very small or failed (h=0.0005774914121814117,N_eff=8641.0). Using fallback (h=0.019463434865117986)\n",
      "WARNING:root:auto bandwidth for lPE very small or failed (h=0.000569602550468221,N_eff=8641.0). Using fallback (h=0.019343278772123426)\n",
      "WARNING:root:auto bandwidth for ldPE very small or failed (h=0.0006050782908985673,N_eff=8641.0). Using fallback (h=0.019524337829910855)\n"
     ]
    },
    {
     "name": "stdout",
     "output_type": "stream",
     "text": [
      "Removed no burn in\n"
     ]
    },
    {
     "name": "stderr",
     "output_type": "stream",
     "text": [
      "WARNING:root:auto bandwidth for c2 very small or failed (h=0.0006343612417091458,N_eff=24210.0). Using fallback (h=0.018156917259767515)\n"
     ]
    },
    {
     "name": "stdout",
     "output_type": "stream",
     "text": [
      "Removed no burn in\n"
     ]
    },
    {
     "name": "stderr",
     "output_type": "stream",
     "text": [
      "WARNING:root:auto bandwidth for lm very small or failed (h=0.0005315994646402302,N_eff=30470.0). Using fallback (h=0.019037822520663463)\n",
      "WARNING:root:auto bandwidth for c2 very small or failed (h=0.0005662348437561286,N_eff=30470.0). Using fallback (h=0.012473729298558061)\n",
      "WARNING:root:auto bandwidth for r1 very small or failed (h=0.0006022135725780239,N_eff=30470.0). Using fallback (h=0.015309390975667407)\n",
      "WARNING:root:auto bandwidth for yd very small or failed (h=0.00048406993381333113,N_eff=30470.0). Using fallback (h=0.017615943207637843)\n",
      "WARNING:root:auto bandwidth for yb very small or failed (h=0.0006145434018800115,N_eff=30470.0). Using fallback (h=0.01598510580104553)\n",
      "WARNING:root:auto bandwidth for lPE very small or failed (h=0.0005667116521864031,N_eff=30470.0). Using fallback (h=0.019131775308497564)\n",
      "WARNING:root:auto bandwidth for ldPE very small or failed (h=0.0005815466039643905,N_eff=30470.0). Using fallback (h=0.015299645379564698)\n"
     ]
    },
    {
     "name": "stdout",
     "output_type": "stream",
     "text": [
      "Removed no burn in\n",
      "Removed no burn in\n"
     ]
    },
    {
     "name": "stderr",
     "output_type": "stream",
     "text": [
      "WARNING:root:auto bandwidth for c2 very small or failed (h=0.0007804818734977585,N_eff=5345.0). Using fallback (h=0.023479422685252667)\n",
      "WARNING:root:auto bandwidth for yd very small or failed (h=0.000561088037336733,N_eff=5345.0). Using fallback (h=0.021785021822889192)\n",
      "WARNING:root:auto bandwidth for lPE very small or failed (h=0.0007381807168524245,N_eff=5345.0). Using fallback (h=0.021369138637093624)\n",
      "WARNING:root:auto bandwidth for ldPE very small or failed (h=0.0007102707030209009,N_eff=5345.0). Using fallback (h=0.02013194302487324)\n"
     ]
    },
    {
     "name": "stdout",
     "output_type": "stream",
     "text": [
      "Removed no burn in\n"
     ]
    },
    {
     "name": "stderr",
     "output_type": "stream",
     "text": [
      "WARNING:root:auto bandwidth for c2 very small or failed (h=0.0007656001595478576,N_eff=7562.0). Using fallback (h=0.023947703043285935)\n",
      "WARNING:root:auto bandwidth for yd very small or failed (h=0.0007499054956331459,N_eff=7562.0). Using fallback (h=0.02415436195068722)\n"
     ]
    },
    {
     "name": "stdout",
     "output_type": "stream",
     "text": [
      "Removed no burn in\n"
     ]
    },
    {
     "name": "stderr",
     "output_type": "stream",
     "text": [
      "WARNING:root:auto bandwidth for lm very small or failed (h=0.0005652574207491393,N_eff=6850.0). Using fallback (h=0.020937848913232804)\n",
      "WARNING:root:auto bandwidth for r1 very small or failed (h=0.0006130240039909011,N_eff=6850.0). Using fallback (h=0.019045759135228765)\n",
      "WARNING:root:auto bandwidth for yd very small or failed (h=0.0006059147712685839,N_eff=6850.0). Using fallback (h=0.01852230657604051)\n",
      "WARNING:root:auto bandwidth for lPE very small or failed (h=0.000624724787513012,N_eff=6850.0). Using fallback (h=0.020340144739048684)\n",
      "WARNING:root:auto bandwidth for ldPE very small or failed (h=0.0006660572381060834,N_eff=6850.0). Using fallback (h=0.011286877494893155)\n"
     ]
    },
    {
     "name": "stdout",
     "output_type": "stream",
     "text": [
      "Removed no burn in\n",
      "Removed no burn in\n"
     ]
    },
    {
     "name": "stderr",
     "output_type": "stream",
     "text": [
      "WARNING:root:auto bandwidth for r1 very small or failed (h=0.0006045246524630749,N_eff=6391.0). Using fallback (h=0.021843126008234574)\n",
      "WARNING:root:auto bandwidth for ldPE very small or failed (h=0.0009145441088109893,N_eff=6391.0). Using fallback (h=0.0193858560851788)\n"
     ]
    },
    {
     "name": "stdout",
     "output_type": "stream",
     "text": [
      "Removed no burn in\n"
     ]
    },
    {
     "name": "stderr",
     "output_type": "stream",
     "text": [
      "WARNING:root:auto bandwidth for c2 very small or failed (h=0.0009699300497828638,N_eff=5632.0). Using fallback (h=0.025699737374407283)\n",
      "WARNING:root:auto bandwidth for yd very small or failed (h=0.0008247590879033236,N_eff=5632.0). Using fallback (h=0.02035998269550958)\n",
      "WARNING:root:auto bandwidth for lPE very small or failed (h=0.0007347779920012469,N_eff=5632.0). Using fallback (h=0.02420481814919119)\n"
     ]
    },
    {
     "name": "stdout",
     "output_type": "stream",
     "text": [
      "Removed no burn in\n"
     ]
    },
    {
     "name": "stderr",
     "output_type": "stream",
     "text": [
      "WARNING:root:auto bandwidth for lm very small or failed (h=0.0007092201153219922,N_eff=4775.0). Using fallback (h=0.022701270290119337)\n",
      "WARNING:root:auto bandwidth for r1 very small or failed (h=0.00103272352990727,N_eff=4775.0). Using fallback (h=0.01901773585826944)\n",
      "WARNING:root:auto bandwidth for ldPE very small or failed (h=0.0007798938891439522,N_eff=4775.0). Using fallback (h=0.019888148512904342)\n"
     ]
    },
    {
     "name": "stdout",
     "output_type": "stream",
     "text": [
      "Removed no burn in\n"
     ]
    },
    {
     "name": "stderr",
     "output_type": "stream",
     "text": [
      "WARNING:root:auto bandwidth for c2 very small or failed (h=0.0007709895577405763,N_eff=6096.0). Using fallback (h=0.022392115236386696)\n"
     ]
    },
    {
     "name": "stdout",
     "output_type": "stream",
     "text": [
      "Removed no burn in\n",
      "Removed no burn in\n"
     ]
    },
    {
     "name": "stderr",
     "output_type": "stream",
     "text": [
      "WARNING:root:auto bandwidth for lm very small or failed (h=0.0008981124239860425,N_eff=5133.0). Using fallback (h=0.024987493418511073)\n"
     ]
    },
    {
     "name": "stdout",
     "output_type": "stream",
     "text": [
      "Removed no burn in\n"
     ]
    },
    {
     "name": "stderr",
     "output_type": "stream",
     "text": [
      "WARNING:root:auto bandwidth for r1 very small or failed (h=0.0007279871088948981,N_eff=5344.0). Using fallback (h=0.02872749420655121)\n"
     ]
    },
    {
     "name": "stdout",
     "output_type": "stream",
     "text": [
      "Removed no burn in\n",
      "Removed no burn in\n",
      "Removed no burn in\n"
     ]
    },
    {
     "name": "stderr",
     "output_type": "stream",
     "text": [
      "WARNING:root:auto bandwidth for lm very small or failed (h=0.0007746102607886507,N_eff=7887.0). Using fallback (h=0.02600456004851171)\n",
      "WARNING:root:auto bandwidth for c2 very small or failed (h=0.0008075917841327696,N_eff=7887.0). Using fallback (h=0.0260162451313455)\n",
      "WARNING:root:auto bandwidth for yd very small or failed (h=0.0007163763232417385,N_eff=7887.0). Using fallback (h=0.021590806503608367)\n",
      "WARNING:root:auto bandwidth for lPE very small or failed (h=0.0006957084847929103,N_eff=7887.0). Using fallback (h=0.026676893112520774)\n"
     ]
    },
    {
     "name": "stdout",
     "output_type": "stream",
     "text": [
      "Removed no burn in\n"
     ]
    },
    {
     "name": "stderr",
     "output_type": "stream",
     "text": [
      "WARNING:root:auto bandwidth for lm very small or failed (h=0.0006403905450372165,N_eff=8317.0). Using fallback (h=0.02656204429197152)\n",
      "WARNING:root:auto bandwidth for r1 very small or failed (h=0.0006869983471456296,N_eff=8317.0). Using fallback (h=0.0113336436771819)\n",
      "WARNING:root:auto bandwidth for yd very small or failed (h=0.0006592268910847221,N_eff=8317.0). Using fallback (h=0.026371277844462984)\n",
      "WARNING:root:auto bandwidth for lPE very small or failed (h=0.0005948655306839106,N_eff=8317.0). Using fallback (h=0.026865006559412624)\n",
      "WARNING:root:auto bandwidth for ldPE very small or failed (h=0.0006813249518453932,N_eff=8317.0). Using fallback (h=0.016326929661258684)\n"
     ]
    },
    {
     "name": "stdout",
     "output_type": "stream",
     "text": [
      "Removed no burn in\n",
      "Removed no burn in\n"
     ]
    },
    {
     "name": "stderr",
     "output_type": "stream",
     "text": [
      "WARNING:root:auto bandwidth for yd very small or failed (h=0.0006469601691643723,N_eff=10356.0). Using fallback (h=0.02238798870019048)\n",
      "WARNING:root:auto bandwidth for ldPE very small or failed (h=0.0006965462111032276,N_eff=10356.0). Using fallback (h=0.012791305473473288)\n"
     ]
    },
    {
     "name": "stdout",
     "output_type": "stream",
     "text": [
      "Removed no burn in\n"
     ]
    },
    {
     "name": "stderr",
     "output_type": "stream",
     "text": [
      "WARNING:root:auto bandwidth for c2 very small or failed (h=0.000672086251691465,N_eff=7606.0). Using fallback (h=0.02559803967668166)\n"
     ]
    },
    {
     "name": "stdout",
     "output_type": "stream",
     "text": [
      "Removed no burn in\n"
     ]
    },
    {
     "name": "stderr",
     "output_type": "stream",
     "text": [
      "WARNING:root:auto bandwidth for ldPE very small or failed (h=0.0006577623582415438,N_eff=9388.0). Using fallback (h=0.0042227436742115175)\n"
     ]
    },
    {
     "name": "stdout",
     "output_type": "stream",
     "text": [
      "Removed no burn in\n"
     ]
    },
    {
     "name": "stderr",
     "output_type": "stream",
     "text": [
      "WARNING:root:auto bandwidth for lm very small or failed (h=0.0006805357158384179,N_eff=5173.0). Using fallback (h=0.022261543742474615)\n",
      "WARNING:root:auto bandwidth for lPE very small or failed (h=0.0006422110042338522,N_eff=5173.0). Using fallback (h=0.02121845946013714)\n"
     ]
    },
    {
     "name": "stdout",
     "output_type": "stream",
     "text": [
      "Removed no burn in\n",
      "Removed no burn in\n"
     ]
    },
    {
     "name": "stderr",
     "output_type": "stream",
     "text": [
      "WARNING:root:auto bandwidth for lm very small or failed (h=0.0005428386698733907,N_eff=6864.0). Using fallback (h=0.027001126618784746)\n",
      "WARNING:root:auto bandwidth for yd very small or failed (h=0.0002834320661897446,N_eff=6864.0). Using fallback (h=0.009402869900666497)\n",
      "WARNING:root:auto bandwidth for lPE very small or failed (h=0.0010156890597423334,N_eff=6864.0). Using fallback (h=0.02649740826222686)\n"
     ]
    },
    {
     "name": "stdout",
     "output_type": "stream",
     "text": [
      "Removed no burn in\n"
     ]
    },
    {
     "name": "stderr",
     "output_type": "stream",
     "text": [
      "WARNING:root:auto bandwidth for lm very small or failed (h=0.0007240161603540407,N_eff=7330.0). Using fallback (h=0.022421343568785994)\n",
      "WARNING:root:auto bandwidth for c2 very small or failed (h=0.0008205362096027098,N_eff=7330.0). Using fallback (h=0.023821082429717467)\n",
      "WARNING:root:auto bandwidth for r1 very small or failed (h=0.0007129155618999764,N_eff=7330.0). Using fallback (h=0.012733129252471867)\n",
      "WARNING:root:auto bandwidth for yd very small or failed (h=0.00046159394725595135,N_eff=7330.0). Using fallback (h=0.02332304333547662)\n",
      "WARNING:root:auto bandwidth for lPE very small or failed (h=0.0007787185002718283,N_eff=7330.0). Using fallback (h=0.021619676514797945)\n",
      "WARNING:root:auto bandwidth for ldPE very small or failed (h=0.00073422588754363,N_eff=7330.0). Using fallback (h=0.02663980727619471)\n"
     ]
    },
    {
     "name": "stdout",
     "output_type": "stream",
     "text": [
      "Removed no burn in\n"
     ]
    },
    {
     "name": "stderr",
     "output_type": "stream",
     "text": [
      "WARNING:root:auto bandwidth for lm very small or failed (h=0.000559791141994724,N_eff=7976.0). Using fallback (h=0.029004751798598252)\n",
      "WARNING:root:auto bandwidth for c2 very small or failed (h=0.0008348794288647118,N_eff=7976.0). Using fallback (h=0.02767766787503134)\n",
      "WARNING:root:auto bandwidth for yd very small or failed (h=0.00046779838367582143,N_eff=7976.0). Using fallback (h=0.012435262966034012)\n",
      "WARNING:root:auto bandwidth for lPE very small or failed (h=0.0005349543226045563,N_eff=7976.0). Using fallback (h=0.028849061986915277)\n"
     ]
    },
    {
     "name": "stdout",
     "output_type": "stream",
     "text": [
      "Removed no burn in\n"
     ]
    },
    {
     "name": "stderr",
     "output_type": "stream",
     "text": [
      "WARNING:root:auto bandwidth for ldPE very small or failed (h=0.0008132053852145796,N_eff=6119.0). Using fallback (h=0.021332892029048853)\n"
     ]
    },
    {
     "name": "stdout",
     "output_type": "stream",
     "text": [
      "Removed no burn in\n"
     ]
    },
    {
     "name": "stderr",
     "output_type": "stream",
     "text": [
      "WARNING:root:auto bandwidth for c2 very small or failed (h=0.0005824808300580177,N_eff=8668.0). Using fallback (h=0.022171706205009852)\n",
      "WARNING:root:auto bandwidth for lPE very small or failed (h=0.0005220116572113113,N_eff=8668.0). Using fallback (h=0.022368861876351325)\n"
     ]
    },
    {
     "name": "stdout",
     "output_type": "stream",
     "text": [
      "Removed no burn in\n"
     ]
    },
    {
     "name": "stderr",
     "output_type": "stream",
     "text": [
      "WARNING:root:auto bandwidth for lm very small or failed (h=0.000605120269605345,N_eff=10398.0). Using fallback (h=0.023044272868470193)\n",
      "WARNING:root:auto bandwidth for c2 very small or failed (h=0.0006238611643532816,N_eff=10398.0). Using fallback (h=0.023705255320510658)\n",
      "WARNING:root:auto bandwidth for r1 very small or failed (h=0.0005894033402972525,N_eff=10398.0). Using fallback (h=0.014921274243974375)\n",
      "WARNING:root:auto bandwidth for yd very small or failed (h=0.0006380733234303008,N_eff=10398.0). Using fallback (h=0.023201097850855862)\n",
      "WARNING:root:auto bandwidth for lPE very small or failed (h=0.0006016029387803171,N_eff=10398.0). Using fallback (h=0.02296961753095152)\n",
      "WARNING:root:auto bandwidth for ldPE very small or failed (h=0.0005434284960072748,N_eff=10398.0). Using fallback (h=0.005929771152082743)\n"
     ]
    },
    {
     "name": "stdout",
     "output_type": "stream",
     "text": [
      "Removed no burn in\n"
     ]
    },
    {
     "name": "stderr",
     "output_type": "stream",
     "text": [
      "WARNING:root:auto bandwidth for yb very small or failed (h=0.0009721336740591119,N_eff=4942.0). Using fallback (h=0.022556600641537385)\n"
     ]
    },
    {
     "name": "stdout",
     "output_type": "stream",
     "text": [
      "Removed no burn in\n"
     ]
    },
    {
     "name": "stderr",
     "output_type": "stream",
     "text": [
      "WARNING:root:auto bandwidth for lm very small or failed (h=0.0006833933933382502,N_eff=4906.0). Using fallback (h=0.02459648988276018)\n",
      "WARNING:root:auto bandwidth for r1 very small or failed (h=0.000671933367931631,N_eff=4906.0). Using fallback (h=0.02758200174273398)\n",
      "WARNING:root:auto bandwidth for yd very small or failed (h=0.0007078575911819589,N_eff=4906.0). Using fallback (h=0.02467521561770729)\n",
      "WARNING:root:auto bandwidth for ldPE very small or failed (h=0.0008548156337630811,N_eff=4906.0). Using fallback (h=0.009769442200646142)\n"
     ]
    },
    {
     "name": "stdout",
     "output_type": "stream",
     "text": [
      "Removed no burn in\n"
     ]
    },
    {
     "name": "stderr",
     "output_type": "stream",
     "text": [
      "WARNING:root:auto bandwidth for lm very small or failed (h=0.0005936074523108044,N_eff=9002.0). Using fallback (h=0.021966174666785555)\n",
      "WARNING:root:auto bandwidth for c2 very small or failed (h=0.000631378063459706,N_eff=9002.0). Using fallback (h=0.017852152563295465)\n",
      "WARNING:root:auto bandwidth for yb very small or failed (h=0.000603698741594122,N_eff=9002.0). Using fallback (h=0.02299220735973708)\n",
      "WARNING:root:auto bandwidth for lPE very small or failed (h=0.0005837457583505553,N_eff=9002.0). Using fallback (h=0.022134319139528652)\n"
     ]
    },
    {
     "name": "stdout",
     "output_type": "stream",
     "text": [
      "Removed no burn in\n"
     ]
    },
    {
     "name": "stderr",
     "output_type": "stream",
     "text": [
      "WARNING:root:auto bandwidth for lm very small or failed (h=0.0006758004102300364,N_eff=10325.0). Using fallback (h=0.023329037742101322)\n",
      "WARNING:root:auto bandwidth for r1 very small or failed (h=0.000654933179777439,N_eff=10325.0). Using fallback (h=0.026112252083696247)\n",
      "WARNING:root:auto bandwidth for yb very small or failed (h=0.0006757780111976017,N_eff=10325.0). Using fallback (h=0.022698814058774358)\n",
      "WARNING:root:auto bandwidth for lPE very small or failed (h=0.0006562535056463389,N_eff=10325.0). Using fallback (h=0.023725179082683366)\n",
      "WARNING:root:auto bandwidth for ldPE very small or failed (h=0.0005703916773498525,N_eff=10325.0). Using fallback (h=0.015361920439507244)\n"
     ]
    },
    {
     "name": "stdout",
     "output_type": "stream",
     "text": [
      "Removed no burn in\n"
     ]
    },
    {
     "name": "stderr",
     "output_type": "stream",
     "text": [
      "WARNING:root:auto bandwidth for c2 very small or failed (h=0.0006169072887896089,N_eff=12689.0). Using fallback (h=0.019638594041009556)\n"
     ]
    },
    {
     "name": "stdout",
     "output_type": "stream",
     "text": [
      "Removed no burn in\n"
     ]
    },
    {
     "name": "stderr",
     "output_type": "stream",
     "text": [
      "WARNING:root:auto bandwidth for c2 very small or failed (h=0.0006653396047952342,N_eff=17892.0). Using fallback (h=0.017541545997372936)\n",
      "WARNING:root:auto bandwidth for yd very small or failed (h=0.0012791945575231956,N_eff=17892.0). Using fallback (h=0.018362179650140323)\n",
      "WARNING:root:auto bandwidth for ldPE very small or failed (h=0.0007093483025400311,N_eff=17892.0). Using fallback (h=0.018399997907823765)\n"
     ]
    },
    {
     "name": "stdout",
     "output_type": "stream",
     "text": [
      "Removed no burn in\n",
      "Removed no burn in\n",
      "Removed no burn in\n",
      "Removed no burn in\n"
     ]
    },
    {
     "name": "stderr",
     "output_type": "stream",
     "text": [
      "WARNING:root:auto bandwidth for lm very small or failed (h=0.0009139375705864959,N_eff=4476.0). Using fallback (h=0.027355833201625247)\n",
      "WARNING:root:auto bandwidth for c2 very small or failed (h=0.001317353752804591,N_eff=4476.0). Using fallback (h=0.028919151621794474)\n",
      "WARNING:root:auto bandwidth for lPE very small or failed (h=0.0007618488998998558,N_eff=4476.0). Using fallback (h=0.02733621112307333)\n"
     ]
    },
    {
     "name": "stdout",
     "output_type": "stream",
     "text": [
      "Removed no burn in\n"
     ]
    },
    {
     "name": "stderr",
     "output_type": "stream",
     "text": [
      "WARNING:root:auto bandwidth for lm very small or failed (h=0.0006302200522860207,N_eff=7787.0). Using fallback (h=0.015753329035841777)\n",
      "WARNING:root:auto bandwidth for yd very small or failed (h=0.0007083097359942476,N_eff=7787.0). Using fallback (h=0.02423073732903045)\n",
      "WARNING:root:auto bandwidth for lPE very small or failed (h=0.0005766398783417309,N_eff=7787.0). Using fallback (h=0.015224745765669791)\n"
     ]
    },
    {
     "name": "stdout",
     "output_type": "stream",
     "text": [
      "Removed no burn in\n"
     ]
    },
    {
     "name": "stderr",
     "output_type": "stream",
     "text": [
      "WARNING:root:auto bandwidth for r1 very small or failed (h=0.0005450170145581659,N_eff=8926.0). Using fallback (h=0.005860335585936001)\n",
      "WARNING:root:auto bandwidth for yd very small or failed (h=0.0005915319039329432,N_eff=8926.0). Using fallback (h=0.02236248036312993)\n",
      "WARNING:root:auto bandwidth for lPE very small or failed (h=0.0005900360507475795,N_eff=8926.0). Using fallback (h=0.01932745679166111)\n"
     ]
    },
    {
     "name": "stdout",
     "output_type": "stream",
     "text": [
      "Removed no burn in\n"
     ]
    },
    {
     "name": "stderr",
     "output_type": "stream",
     "text": [
      "WARNING:root:auto bandwidth for lPE very small or failed (h=0.0007029331235126866,N_eff=11363.0). Using fallback (h=0.02313470171710162)\n"
     ]
    },
    {
     "name": "stdout",
     "output_type": "stream",
     "text": [
      "Removed no burn in\n"
     ]
    },
    {
     "name": "stderr",
     "output_type": "stream",
     "text": [
      "WARNING:root:auto bandwidth for lPE very small or failed (h=0.0005904092201165313,N_eff=5324.0). Using fallback (h=0.0203561068880601)\n",
      "WARNING:root:auto bandwidth for ldPE very small or failed (h=0.0007021864424046593,N_eff=5324.0). Using fallback (h=0.020488245306788156)\n"
     ]
    },
    {
     "name": "stdout",
     "output_type": "stream",
     "text": [
      "Removed no burn in\n"
     ]
    },
    {
     "name": "stderr",
     "output_type": "stream",
     "text": [
      "WARNING:root:auto bandwidth for lm very small or failed (h=0.0004921499865341583,N_eff=9718.0). Using fallback (h=0.008487568748628297)\n",
      "WARNING:root:auto bandwidth for yd very small or failed (h=0.0005435444232336923,N_eff=9718.0). Using fallback (h=0.020587439865442987)\n",
      "WARNING:root:auto bandwidth for lPE very small or failed (h=0.0005070367677735372,N_eff=9718.0). Using fallback (h=0.008831653801675205)\n"
     ]
    },
    {
     "name": "stdout",
     "output_type": "stream",
     "text": [
      "Removed no burn in\n"
     ]
    },
    {
     "name": "stderr",
     "output_type": "stream",
     "text": [
      "WARNING:root:auto bandwidth for lm very small or failed (h=0.00045386358356630323,N_eff=11634.0). Using fallback (h=0.0066646963164559096)\n",
      "WARNING:root:auto bandwidth for c2 very small or failed (h=0.00045683904423462677,N_eff=11634.0). Using fallback (h=0.017479120983489378)\n",
      "WARNING:root:auto bandwidth for r1 very small or failed (h=0.0005107219713359057,N_eff=11634.0). Using fallback (h=0.02062705237839032)\n",
      "WARNING:root:auto bandwidth for yd very small or failed (h=0.0004874169579321505,N_eff=11634.0). Using fallback (h=0.019956334357890473)\n",
      "WARNING:root:auto bandwidth for lPE very small or failed (h=0.000461345150240493,N_eff=11634.0). Using fallback (h=0.006575974539572155)\n",
      "WARNING:root:auto bandwidth for ldPE very small or failed (h=0.0005269423029670119,N_eff=11634.0). Using fallback (h=0.020616209102089996)\n"
     ]
    },
    {
     "name": "stdout",
     "output_type": "stream",
     "text": [
      "Removed no burn in\n",
      "Removed no burn in\n"
     ]
    },
    {
     "name": "stderr",
     "output_type": "stream",
     "text": [
      "WARNING:root:auto bandwidth for c2 very small or failed (h=0.0007789694079550029,N_eff=5014.0). Using fallback (h=0.023360915461297614)\n"
     ]
    },
    {
     "name": "stdout",
     "output_type": "stream",
     "text": [
      "Removed no burn in\n",
      "Removed no burn in\n",
      "Removed no burn in\n"
     ]
    },
    {
     "name": "stderr",
     "output_type": "stream",
     "text": [
      "WARNING:root:auto bandwidth for lm very small or failed (h=0.0006434636900526614,N_eff=6479.0). Using fallback (h=0.026434909642008366)\n",
      "WARNING:root:auto bandwidth for lPE very small or failed (h=0.0007339055809920382,N_eff=6479.0). Using fallback (h=0.02617994793910021)\n"
     ]
    },
    {
     "name": "stdout",
     "output_type": "stream",
     "text": [
      "Removed no burn in\n"
     ]
    },
    {
     "name": "stderr",
     "output_type": "stream",
     "text": [
      "WARNING:root:auto bandwidth for c2 very small or failed (h=0.0007444853099985632,N_eff=6641.0). Using fallback (h=0.017001383525391996)\n",
      "WARNING:root:auto bandwidth for r1 very small or failed (h=0.0007329230144660337,N_eff=6641.0). Using fallback (h=0.012426631311380526)\n",
      "WARNING:root:auto bandwidth for yd very small or failed (h=0.0008402203907500734,N_eff=6641.0). Using fallback (h=0.013515447997398468)\n",
      "WARNING:root:auto bandwidth for lPE very small or failed (h=0.0007175207940108844,N_eff=6641.0). Using fallback (h=0.028895665955627627)\n"
     ]
    },
    {
     "name": "stdout",
     "output_type": "stream",
     "text": [
      "Removed no burn in\n"
     ]
    },
    {
     "name": "stderr",
     "output_type": "stream",
     "text": [
      "WARNING:root:auto bandwidth for lm very small or failed (h=0.0012883574233774175,N_eff=4885.0). Using fallback (h=0.02277034761764983)\n",
      "WARNING:root:auto bandwidth for yd very small or failed (h=0.0009556158954229988,N_eff=4885.0). Using fallback (h=0.025212527243545974)\n"
     ]
    },
    {
     "name": "stdout",
     "output_type": "stream",
     "text": [
      "Removed no burn in\n",
      "Removed no burn in\n",
      "Removed no burn in\n",
      "Removed no burn in\n",
      "Removed no burn in\n"
     ]
    },
    {
     "name": "stderr",
     "output_type": "stream",
     "text": [
      "WARNING:root:auto bandwidth for lPE very small or failed (h=0.0009384179132259204,N_eff=5148.0). Using fallback (h=0.023171104664786713)\n",
      "WARNING:root:auto bandwidth for ldPE very small or failed (h=0.0012900014263220944,N_eff=5148.0). Using fallback (h=0.011093830756889033)\n"
     ]
    },
    {
     "name": "stdout",
     "output_type": "stream",
     "text": [
      "Removed no burn in\n",
      "Removed no burn in\n"
     ]
    },
    {
     "name": "stderr",
     "output_type": "stream",
     "text": [
      "WARNING:root:auto bandwidth for lm very small or failed (h=0.0009520551914400879,N_eff=5687.0). Using fallback (h=0.014408293015387267)\n",
      "WARNING:root:auto bandwidth for r1 very small or failed (h=0.000812446652023962,N_eff=5687.0). Using fallback (h=0.024431056831663467)\n"
     ]
    },
    {
     "name": "stdout",
     "output_type": "stream",
     "text": [
      "Removed no burn in\n",
      "Removed no burn in\n",
      "Removed no burn in\n",
      "Removed no burn in\n"
     ]
    },
    {
     "name": "stderr",
     "output_type": "stream",
     "text": [
      "WARNING:root:auto bandwidth for r1 very small or failed (h=0.0005124836655471808,N_eff=5285.0). Using fallback (h=0.0026083354188453224)\n",
      "WARNING:root:auto bandwidth for lPE very small or failed (h=0.0008881910274563627,N_eff=5285.0). Using fallback (h=0.006543386767698912)\n"
     ]
    },
    {
     "name": "stdout",
     "output_type": "stream",
     "text": [
      "Removed no burn in\n"
     ]
    },
    {
     "name": "stderr",
     "output_type": "stream",
     "text": [
      "WARNING:root:auto bandwidth for yd very small or failed (h=0.0017456509073746353,N_eff=4180.0). Using fallback (h=0.023250369744226597)\n"
     ]
    },
    {
     "name": "stdout",
     "output_type": "stream",
     "text": [
      "Removed no burn in\n",
      "Removed no burn in\n",
      "Removed no burn in\n"
     ]
    },
    {
     "name": "stderr",
     "output_type": "stream",
     "text": [
      "WARNING:root:auto bandwidth for lm very small or failed (h=0.0008091624698548132,N_eff=7700.0). Using fallback (h=0.01274111990592145)\n"
     ]
    },
    {
     "name": "stdout",
     "output_type": "stream",
     "text": [
      "Removed no burn in\n",
      "Removed no burn in\n"
     ]
    },
    {
     "name": "stderr",
     "output_type": "stream",
     "text": [
      "WARNING:root:auto bandwidth for lPE very small or failed (h=0.0017199757099435446,N_eff=4788.0). Using fallback (h=0.02103835582992822)\n"
     ]
    },
    {
     "name": "stdout",
     "output_type": "stream",
     "text": [
      "Removed no burn in\n"
     ]
    },
    {
     "name": "stderr",
     "output_type": "stream",
     "text": [
      "WARNING:root:auto bandwidth for yb very small or failed (h=0.0007628664552274311,N_eff=6986.0). Using fallback (h=0.022811371580459157)\n"
     ]
    },
    {
     "name": "stdout",
     "output_type": "stream",
     "text": [
      "Removed no burn in\n"
     ]
    },
    {
     "name": "stderr",
     "output_type": "stream",
     "text": [
      "WARNING:root:auto bandwidth for lm very small or failed (h=0.0007589414487329647,N_eff=7091.0). Using fallback (h=0.0202784769631898)\n",
      "WARNING:root:auto bandwidth for r1 very small or failed (h=0.0008945019506704919,N_eff=7091.0). Using fallback (h=0.017502378813484987)\n",
      "WARNING:root:auto bandwidth for yd very small or failed (h=0.0007517642699101292,N_eff=7091.0). Using fallback (h=0.022064304705325857)\n"
     ]
    },
    {
     "name": "stdout",
     "output_type": "stream",
     "text": [
      "Removed no burn in\n",
      "Removed no burn in\n"
     ]
    },
    {
     "name": "stderr",
     "output_type": "stream",
     "text": [
      "WARNING:root:auto bandwidth for r1 very small or failed (h=0.0007076462243628902,N_eff=4721.0). Using fallback (h=0.006581950400140514)\n",
      "WARNING:root:auto bandwidth for yd very small or failed (h=0.0007358729655651879,N_eff=4721.0). Using fallback (h=0.022369828150097498)\n",
      "WARNING:root:auto bandwidth for lPE very small or failed (h=0.0009219869501387159,N_eff=4721.0). Using fallback (h=0.010434964775928967)\n",
      "WARNING:root:auto bandwidth for ldPE very small or failed (h=0.000736876431127982,N_eff=4721.0). Using fallback (h=0.015306370382750532)\n"
     ]
    },
    {
     "name": "stdout",
     "output_type": "stream",
     "text": [
      "Removed no burn in\n",
      "Removed no burn in\n",
      "Removed no burn in\n"
     ]
    },
    {
     "name": "stderr",
     "output_type": "stream",
     "text": [
      "WARNING:root:auto bandwidth for lPE very small or failed (h=0.0006005672272856347,N_eff=5200.0). Using fallback (h=0.023762960662574936)\n"
     ]
    },
    {
     "name": "stdout",
     "output_type": "stream",
     "text": [
      "Removed no burn in\n"
     ]
    },
    {
     "name": "stderr",
     "output_type": "stream",
     "text": [
      "WARNING:root:auto bandwidth for lm very small or failed (h=0.0006887803224648031,N_eff=5158.0). Using fallback (h=0.013601755340848664)\n",
      "WARNING:root:auto bandwidth for yd very small or failed (h=0.0006671173085881535,N_eff=5158.0). Using fallback (h=0.0305865221389712)\n",
      "WARNING:root:auto bandwidth for lPE very small or failed (h=0.0006299959433996185,N_eff=5158.0). Using fallback (h=0.012961787744689854)\n",
      "WARNING:root:auto bandwidth for ldPE very small or failed (h=0.0007820178076824964,N_eff=5158.0). Using fallback (h=0.016404686382269124)\n"
     ]
    },
    {
     "name": "stdout",
     "output_type": "stream",
     "text": [
      "Removed no burn in\n",
      "Removed no burn in\n"
     ]
    },
    {
     "name": "stderr",
     "output_type": "stream",
     "text": [
      "WARNING:root:auto bandwidth for yd very small or failed (h=0.000801844229173379,N_eff=6488.0). Using fallback (h=0.02387794358593906)\n"
     ]
    },
    {
     "name": "stdout",
     "output_type": "stream",
     "text": [
      "Removed no burn in\n",
      "Removed no burn in\n",
      "Removed no burn in\n"
     ]
    },
    {
     "name": "stderr",
     "output_type": "stream",
     "text": [
      "WARNING:root:auto bandwidth for yd very small or failed (h=0.0008503689804240891,N_eff=5045.0). Using fallback (h=0.024114463347546414)\n"
     ]
    },
    {
     "name": "stdout",
     "output_type": "stream",
     "text": [
      "Removed no burn in\n",
      "Removed no burn in\n"
     ]
    },
    {
     "name": "stderr",
     "output_type": "stream",
     "text": [
      "WARNING:root:auto bandwidth for c2 very small or failed (h=0.0007830038096885491,N_eff=4471.0). Using fallback (h=0.02495241956892215)\n"
     ]
    },
    {
     "name": "stdout",
     "output_type": "stream",
     "text": [
      "Removed no burn in\n"
     ]
    },
    {
     "name": "stderr",
     "output_type": "stream",
     "text": [
      "WARNING:root:auto bandwidth for r1 very small or failed (h=0.0006927567339622985,N_eff=4740.0). Using fallback (h=0.02514949321377432)\n",
      "WARNING:root:auto bandwidth for ldPE very small or failed (h=0.0007903355565328044,N_eff=4740.0). Using fallback (h=0.019575460242882106)\n"
     ]
    },
    {
     "name": "stdout",
     "output_type": "stream",
     "text": [
      "Removed no burn in\n"
     ]
    },
    {
     "name": "stderr",
     "output_type": "stream",
     "text": [
      "WARNING:root:auto bandwidth for yd very small or failed (h=0.0013283334578734409,N_eff=4787.0). Using fallback (h=0.023361897897490283)\n"
     ]
    },
    {
     "name": "stdout",
     "output_type": "stream",
     "text": [
      "Removed no burn in\n"
     ]
    },
    {
     "name": "stderr",
     "output_type": "stream",
     "text": [
      "WARNING:root:auto bandwidth for lm very small or failed (h=0.001093927539914088,N_eff=5743.0). Using fallback (h=0.02350763696404668)\n",
      "WARNING:root:auto bandwidth for c2 very small or failed (h=0.0007692055453925219,N_eff=5743.0). Using fallback (h=0.024425499667372834)\n",
      "WARNING:root:auto bandwidth for r1 very small or failed (h=0.0007887818491631621,N_eff=5743.0). Using fallback (h=0.006558975708706792)\n"
     ]
    },
    {
     "name": "stdout",
     "output_type": "stream",
     "text": [
      "Removed no burn in\n"
     ]
    },
    {
     "name": "stderr",
     "output_type": "stream",
     "text": [
      "WARNING:root:auto bandwidth for yd very small or failed (h=0.0009195787743746239,N_eff=13277.0). Using fallback (h=0.021574996626696298)\n"
     ]
    },
    {
     "name": "stdout",
     "output_type": "stream",
     "text": [
      "Removed no burn in\n"
     ]
    },
    {
     "name": "stderr",
     "output_type": "stream",
     "text": [
      "WARNING:root:auto bandwidth for lm very small or failed (h=0.0006136137256467028,N_eff=12035.0). Using fallback (h=0.013360480737352668)\n"
     ]
    },
    {
     "name": "stdout",
     "output_type": "stream",
     "text": [
      "Removed no burn in\n"
     ]
    },
    {
     "name": "stderr",
     "output_type": "stream",
     "text": [
      "WARNING:root:auto bandwidth for lm very small or failed (h=0.0005752489038888482,N_eff=7812.0). Using fallback (h=0.017260995291013066)\n",
      "WARNING:root:auto bandwidth for c2 very small or failed (h=0.000536818294378958,N_eff=7812.0). Using fallback (h=0.022743521993630722)\n",
      "WARNING:root:auto bandwidth for lPE very small or failed (h=0.0005532732912794038,N_eff=7812.0). Using fallback (h=0.01677567118446453)\n"
     ]
    },
    {
     "name": "stdout",
     "output_type": "stream",
     "text": [
      "Removed no burn in\n"
     ]
    },
    {
     "name": "stderr",
     "output_type": "stream",
     "text": [
      "WARNING:root:auto bandwidth for lm very small or failed (h=0.0005978915804827775,N_eff=9262.0). Using fallback (h=0.00983224925860672)\n",
      "WARNING:root:auto bandwidth for r1 very small or failed (h=0.0005968793453677065,N_eff=9262.0). Using fallback (h=0.01867692175746545)\n",
      "WARNING:root:auto bandwidth for yd very small or failed (h=0.0005450243541266083,N_eff=9262.0). Using fallback (h=0.02376161740662466)\n",
      "WARNING:root:auto bandwidth for lPE very small or failed (h=0.0005776318330691446,N_eff=9262.0). Using fallback (h=0.009511716054271813)\n",
      "WARNING:root:auto bandwidth for ldPE very small or failed (h=0.000684702868602352,N_eff=9262.0). Using fallback (h=0.00989320319784855)\n"
     ]
    },
    {
     "name": "stdout",
     "output_type": "stream",
     "text": [
      "Removed no burn in\n",
      "Removed no burn in\n"
     ]
    },
    {
     "name": "stderr",
     "output_type": "stream",
     "text": [
      "WARNING:root:auto bandwidth for c2 very small or failed (h=0.0015162742053740092,N_eff=4105.0). Using fallback (h=0.02341197914468819)\n",
      "WARNING:root:auto bandwidth for r1 very small or failed (h=0.001258302813557507,N_eff=4105.0). Using fallback (h=0.01517372672504368)\n",
      "WARNING:root:auto bandwidth for yb very small or failed (h=0.0012316131021192517,N_eff=4105.0). Using fallback (h=0.02595392223043851)\n"
     ]
    },
    {
     "name": "stdout",
     "output_type": "stream",
     "text": [
      "Removed no burn in\n"
     ]
    },
    {
     "name": "stderr",
     "output_type": "stream",
     "text": [
      "WARNING:root:auto bandwidth for lPE very small or failed (h=0.000648645844902468,N_eff=10043.0). Using fallback (h=0.021330461805044467)\n"
     ]
    },
    {
     "name": "stdout",
     "output_type": "stream",
     "text": [
      "Removed no burn in\n"
     ]
    },
    {
     "name": "stderr",
     "output_type": "stream",
     "text": [
      "WARNING:root:auto bandwidth for lPE very small or failed (h=0.0007734596148610004,N_eff=9584.0). Using fallback (h=0.022195193123970024)\n",
      "WARNING:root:auto bandwidth for ldPE very small or failed (h=0.0009534783856668485,N_eff=9584.0). Using fallback (h=0.004089562505098708)\n"
     ]
    },
    {
     "name": "stdout",
     "output_type": "stream",
     "text": [
      "Removed no burn in\n"
     ]
    },
    {
     "name": "stderr",
     "output_type": "stream",
     "text": [
      "WARNING:root:auto bandwidth for lm very small or failed (h=0.0005168773931531605,N_eff=8750.0). Using fallback (h=0.021807433131465465)\n",
      "WARNING:root:auto bandwidth for c2 very small or failed (h=0.0005978020586112203,N_eff=8750.0). Using fallback (h=0.022603811019519034)\n",
      "WARNING:root:auto bandwidth for yd very small or failed (h=0.0005713873285677693,N_eff=8750.0). Using fallback (h=0.023298663501474214)\n"
     ]
    },
    {
     "name": "stdout",
     "output_type": "stream",
     "text": [
      "Removed no burn in\n"
     ]
    },
    {
     "name": "stderr",
     "output_type": "stream",
     "text": [
      "WARNING:root:auto bandwidth for c2 very small or failed (h=0.0005639967256771644,N_eff=8705.0). Using fallback (h=0.006102263201016037)\n",
      "WARNING:root:auto bandwidth for r1 very small or failed (h=0.0005766405232208025,N_eff=8705.0). Using fallback (h=0.006026534694787214)\n",
      "WARNING:root:auto bandwidth for yd very small or failed (h=0.0006022972033570116,N_eff=8705.0). Using fallback (h=0.005595652850396226)\n",
      "WARNING:root:auto bandwidth for ldPE very small or failed (h=0.0006015488908170442,N_eff=8705.0). Using fallback (h=0.0015247655233629387)\n"
     ]
    },
    {
     "name": "stdout",
     "output_type": "stream",
     "text": [
      "Removed no burn in\n"
     ]
    },
    {
     "name": "stderr",
     "output_type": "stream",
     "text": [
      "WARNING:root:auto bandwidth for lm very small or failed (h=0.0006184512406744343,N_eff=12865.0). Using fallback (h=0.017195749779288404)\n",
      "WARNING:root:auto bandwidth for c2 very small or failed (h=0.0005680569068833819,N_eff=12865.0). Using fallback (h=0.02060993358067494)\n",
      "WARNING:root:auto bandwidth for lPE very small or failed (h=0.0006281258936095955,N_eff=12865.0). Using fallback (h=0.017629101793902334)\n"
     ]
    },
    {
     "name": "stdout",
     "output_type": "stream",
     "text": [
      "Removed no burn in\n"
     ]
    },
    {
     "name": "stderr",
     "output_type": "stream",
     "text": [
      "WARNING:root:auto bandwidth for lm very small or failed (h=0.0004827213247396292,N_eff=17919.0). Using fallback (h=0.01885309206496146)\n",
      "WARNING:root:auto bandwidth for r1 very small or failed (h=0.0004519681877989083,N_eff=17919.0). Using fallback (h=0.02262654822965004)\n",
      "WARNING:root:auto bandwidth for lPE very small or failed (h=0.00044118001075315477,N_eff=17919.0). Using fallback (h=0.015898970044666373)\n",
      "WARNING:root:auto bandwidth for ldPE very small or failed (h=0.0004442747923266669,N_eff=17919.0). Using fallback (h=0.013389992594234842)\n"
     ]
    },
    {
     "name": "stdout",
     "output_type": "stream",
     "text": [
      "Removed no burn in\n"
     ]
    },
    {
     "name": "stderr",
     "output_type": "stream",
     "text": [
      "WARNING:root:auto bandwidth for yd very small or failed (h=0.0005713013471070853,N_eff=7479.0). Using fallback (h=0.023685022935949287)\n"
     ]
    },
    {
     "name": "stdout",
     "output_type": "stream",
     "text": [
      "Removed no burn in\n"
     ]
    },
    {
     "name": "stderr",
     "output_type": "stream",
     "text": [
      "WARNING:root:auto bandwidth for lm very small or failed (h=0.000695656899606213,N_eff=7285.0). Using fallback (h=0.012475051641958652)\n",
      "WARNING:root:auto bandwidth for r1 very small or failed (h=0.0005974857354929356,N_eff=7285.0). Using fallback (h=0.018780212697657537)\n",
      "WARNING:root:auto bandwidth for lPE very small or failed (h=0.0006114905008817133,N_eff=7285.0). Using fallback (h=0.013016917261897966)\n",
      "WARNING:root:auto bandwidth for ldPE very small or failed (h=0.0005416727776360075,N_eff=7285.0). Using fallback (h=0.018866803048516182)\n"
     ]
    },
    {
     "name": "stdout",
     "output_type": "stream",
     "text": [
      "Removed no burn in\n"
     ]
    },
    {
     "name": "stderr",
     "output_type": "stream",
     "text": [
      "WARNING:root:auto bandwidth for lm very small or failed (h=0.0004388765829878484,N_eff=12522.0). Using fallback (h=0.02079761796636227)\n",
      "WARNING:root:auto bandwidth for c2 very small or failed (h=0.00043062728702026535,N_eff=12522.0). Using fallback (h=0.023117289694772912)\n",
      "WARNING:root:auto bandwidth for yd very small or failed (h=0.00045921605522598733,N_eff=12522.0). Using fallback (h=0.021205236550563895)\n",
      "WARNING:root:auto bandwidth for lPE very small or failed (h=0.000444987291702149,N_eff=12522.0). Using fallback (h=0.020434906421245222)\n"
     ]
    },
    {
     "name": "stdout",
     "output_type": "stream",
     "text": [
      "Removed no burn in\n"
     ]
    },
    {
     "name": "stderr",
     "output_type": "stream",
     "text": [
      "WARNING:root:auto bandwidth for lm very small or failed (h=0.0005733153998198428,N_eff=11661.0). Using fallback (h=0.007596926780181156)\n",
      "WARNING:root:auto bandwidth for c2 very small or failed (h=0.00046573227668508094,N_eff=11661.0). Using fallback (h=0.020017118275241684)\n",
      "WARNING:root:auto bandwidth for r1 very small or failed (h=0.00047022385485624013,N_eff=11661.0). Using fallback (h=0.011997177382868453)\n",
      "WARNING:root:auto bandwidth for yd very small or failed (h=0.00048444140526766855,N_eff=11661.0). Using fallback (h=0.019671659083970023)\n",
      "WARNING:root:auto bandwidth for lPE very small or failed (h=0.0005233228758533202,N_eff=11661.0). Using fallback (h=0.008268535181199481)\n",
      "WARNING:root:auto bandwidth for ldPE very small or failed (h=0.00046768511752533616,N_eff=11661.0). Using fallback (h=0.01135948754334151)\n"
     ]
    },
    {
     "name": "stdout",
     "output_type": "stream",
     "text": [
      "Removed no burn in\n"
     ]
    },
    {
     "name": "stderr",
     "output_type": "stream",
     "text": [
      "WARNING:root:auto bandwidth for c2 very small or failed (h=0.0005668574703394041,N_eff=13132.0). Using fallback (h=0.01900896308179095)\n",
      "WARNING:root:auto bandwidth for yb very small or failed (h=0.0005575655853471546,N_eff=13132.0). Using fallback (h=0.017301112858889904)\n",
      "WARNING:root:auto bandwidth for lPE very small or failed (h=0.000619059568182493,N_eff=13132.0). Using fallback (h=0.02224407200276404)\n"
     ]
    },
    {
     "name": "stdout",
     "output_type": "stream",
     "text": [
      "Removed no burn in\n"
     ]
    },
    {
     "name": "stderr",
     "output_type": "stream",
     "text": [
      "WARNING:root:auto bandwidth for c2 very small or failed (h=0.0005529079054311497,N_eff=14854.0). Using fallback (h=0.019216795841788602)\n",
      "WARNING:root:auto bandwidth for r1 very small or failed (h=0.0005530676149944708,N_eff=14854.0). Using fallback (h=0.011106200432689173)\n",
      "WARNING:root:auto bandwidth for yd very small or failed (h=0.0006400329934192785,N_eff=14854.0). Using fallback (h=0.020986539425626026)\n",
      "WARNING:root:auto bandwidth for yb very small or failed (h=0.0005659234302704442,N_eff=14854.0). Using fallback (h=0.016409943550755427)\n",
      "WARNING:root:auto bandwidth for lPE very small or failed (h=0.0005728424725979975,N_eff=14854.0). Using fallback (h=0.019692834533137256)\n",
      "WARNING:root:auto bandwidth for ldPE very small or failed (h=0.0006517666250988802,N_eff=14854.0). Using fallback (h=0.002374564930710469)\n"
     ]
    },
    {
     "name": "stdout",
     "output_type": "stream",
     "text": [
      "Removed no burn in\n"
     ]
    },
    {
     "name": "stderr",
     "output_type": "stream",
     "text": [
      "WARNING:root:auto bandwidth for lm very small or failed (h=0.0006251915976821198,N_eff=8154.0). Using fallback (h=0.029419273391798086)\n",
      "WARNING:root:auto bandwidth for yd very small or failed (h=0.0006571637125125511,N_eff=8154.0). Using fallback (h=0.025136414543142038)\n",
      "WARNING:root:auto bandwidth for lPE very small or failed (h=0.0006397289611227053,N_eff=8154.0). Using fallback (h=0.02948263974790691)\n"
     ]
    },
    {
     "name": "stdout",
     "output_type": "stream",
     "text": [
      "Removed no burn in\n"
     ]
    },
    {
     "name": "stderr",
     "output_type": "stream",
     "text": [
      "WARNING:root:auto bandwidth for lm very small or failed (h=0.0005348553315478378,N_eff=9191.0). Using fallback (h=0.025226659242421543)\n",
      "WARNING:root:auto bandwidth for c2 very small or failed (h=0.0005324716175439246,N_eff=9191.0). Using fallback (h=0.02853835452736737)\n",
      "WARNING:root:auto bandwidth for r1 very small or failed (h=0.0006197908140338072,N_eff=9191.0). Using fallback (h=0.01866323471550045)\n",
      "WARNING:root:auto bandwidth for lPE very small or failed (h=0.0005968926613266679,N_eff=9191.0). Using fallback (h=0.023597571673674215)\n",
      "WARNING:root:auto bandwidth for ldPE very small or failed (h=0.0005757447683010544,N_eff=9191.0). Using fallback (h=0.009764361897413115)\n"
     ]
    },
    {
     "name": "stdout",
     "output_type": "stream",
     "text": [
      "Removed no burn in\n"
     ]
    },
    {
     "name": "stderr",
     "output_type": "stream",
     "text": [
      "WARNING:root:auto bandwidth for lm very small or failed (h=0.0005845642811740152,N_eff=7513.0). Using fallback (h=0.022829466817193667)\n",
      "WARNING:root:auto bandwidth for lPE very small or failed (h=0.0005675228731972686,N_eff=7513.0). Using fallback (h=0.022103921881577854)\n"
     ]
    },
    {
     "name": "stdout",
     "output_type": "stream",
     "text": [
      "Removed no burn in\n"
     ]
    },
    {
     "name": "stderr",
     "output_type": "stream",
     "text": [
      "WARNING:root:auto bandwidth for lm very small or failed (h=0.0007665293681768919,N_eff=7820.0). Using fallback (h=0.007033616368573569)\n",
      "WARNING:root:auto bandwidth for yb very small or failed (h=0.0007033130542790521,N_eff=7820.0). Using fallback (h=0.021514151622282717)\n",
      "WARNING:root:auto bandwidth for ldPE very small or failed (h=0.0007136579462981341,N_eff=7820.0). Using fallback (h=0.012627854487902941)\n"
     ]
    },
    {
     "name": "stdout",
     "output_type": "stream",
     "text": [
      "Removed no burn in\n"
     ]
    },
    {
     "name": "stderr",
     "output_type": "stream",
     "text": [
      "WARNING:root:auto bandwidth for lm very small or failed (h=0.0006746648639726012,N_eff=6904.0). Using fallback (h=0.02262631904090253)\n"
     ]
    },
    {
     "name": "stdout",
     "output_type": "stream",
     "text": [
      "Removed no burn in\n"
     ]
    },
    {
     "name": "stderr",
     "output_type": "stream",
     "text": [
      "WARNING:root:auto bandwidth for r1 very small or failed (h=0.0015398291059969653,N_eff=6877.0). Using fallback (h=0.017991657513428485)\n"
     ]
    },
    {
     "name": "stdout",
     "output_type": "stream",
     "text": [
      "Removed no burn in\n"
     ]
    },
    {
     "name": "stderr",
     "output_type": "stream",
     "text": [
      "WARNING:root:auto bandwidth for c2 very small or failed (h=0.0006008538907810055,N_eff=13611.0). Using fallback (h=0.02158971778789389)\n",
      "WARNING:root:auto bandwidth for yd very small or failed (h=0.0006477326477207704,N_eff=13611.0). Using fallback (h=0.019921496024967674)\n",
      "WARNING:root:auto bandwidth for yb very small or failed (h=0.0006140413945043036,N_eff=13611.0). Using fallback (h=0.018588612275896994)\n",
      "WARNING:root:auto bandwidth for lPE very small or failed (h=0.0006289735807088305,N_eff=13611.0). Using fallback (h=0.023944869939276532)\n"
     ]
    },
    {
     "name": "stdout",
     "output_type": "stream",
     "text": [
      "Removed no burn in\n"
     ]
    },
    {
     "name": "stderr",
     "output_type": "stream",
     "text": [
      "WARNING:root:auto bandwidth for lm very small or failed (h=0.0004641783533809411,N_eff=13234.0). Using fallback (h=0.023327321096584933)\n",
      "WARNING:root:auto bandwidth for c2 very small or failed (h=0.0004727774662586917,N_eff=13234.0). Using fallback (h=0.022253790119863972)\n",
      "WARNING:root:auto bandwidth for r1 very small or failed (h=0.0004746852319378546,N_eff=13234.0). Using fallback (h=0.021143192520318946)\n",
      "WARNING:root:auto bandwidth for yd very small or failed (h=0.00043843469517639976,N_eff=13234.0). Using fallback (h=0.02030363080320368)\n",
      "WARNING:root:auto bandwidth for yb very small or failed (h=0.0004948605868136169,N_eff=13234.0). Using fallback (h=0.020471487811365395)\n",
      "WARNING:root:auto bandwidth for lPE very small or failed (h=0.0004918389546548182,N_eff=13234.0). Using fallback (h=0.0233415010660662)\n"
     ]
    },
    {
     "name": "stdout",
     "output_type": "stream",
     "text": [
      "Removed no burn in\n"
     ]
    },
    {
     "name": "stderr",
     "output_type": "stream",
     "text": [
      "WARNING:root:auto bandwidth for lm very small or failed (h=0.000669131126076305,N_eff=6540.0). Using fallback (h=0.017541000035881715)\n",
      "WARNING:root:auto bandwidth for c2 very small or failed (h=0.0007338007129327535,N_eff=6540.0). Using fallback (h=0.02344545412129046)\n"
     ]
    },
    {
     "name": "stdout",
     "output_type": "stream",
     "text": [
      "Removed no burn in\n"
     ]
    },
    {
     "name": "stderr",
     "output_type": "stream",
     "text": [
      "WARNING:root:auto bandwidth for yd very small or failed (h=0.0006525117989914346,N_eff=6485.0). Using fallback (h=0.027342114633590722)\n",
      "WARNING:root:auto bandwidth for yb very small or failed (h=0.0005525407070975632,N_eff=6485.0). Using fallback (h=0.02371249238080074)\n"
     ]
    },
    {
     "name": "stdout",
     "output_type": "stream",
     "text": [
      "Removed no burn in\n"
     ]
    },
    {
     "name": "stderr",
     "output_type": "stream",
     "text": [
      "WARNING:root:auto bandwidth for lPE very small or failed (h=0.0006532648373164794,N_eff=6499.0). Using fallback (h=0.02269499618856493)\n"
     ]
    },
    {
     "name": "stdout",
     "output_type": "stream",
     "text": [
      "Removed no burn in\n"
     ]
    },
    {
     "name": "stderr",
     "output_type": "stream",
     "text": [
      "WARNING:root:auto bandwidth for r1 very small or failed (h=0.000737891481709127,N_eff=7138.0). Using fallback (h=0.020276055385069183)\n",
      "WARNING:root:auto bandwidth for lPE very small or failed (h=0.0007423362807076225,N_eff=7138.0). Using fallback (h=0.025895335888940284)\n",
      "WARNING:root:auto bandwidth for ldPE very small or failed (h=0.0007915471225677221,N_eff=7138.0). Using fallback (h=0.006511849280819366)\n"
     ]
    },
    {
     "name": "stdout",
     "output_type": "stream",
     "text": [
      "Removed no burn in\n"
     ]
    },
    {
     "name": "stderr",
     "output_type": "stream",
     "text": [
      "WARNING:root:auto bandwidth for lm very small or failed (h=0.0007702735347584159,N_eff=6596.0). Using fallback (h=0.01816391577091868)\n",
      "WARNING:root:auto bandwidth for yd very small or failed (h=0.0007035956806671062,N_eff=6596.0). Using fallback (h=0.021912060555697267)\n"
     ]
    },
    {
     "name": "stdout",
     "output_type": "stream",
     "text": [
      "Removed no burn in\n"
     ]
    },
    {
     "name": "stderr",
     "output_type": "stream",
     "text": [
      "WARNING:root:auto bandwidth for r1 very small or failed (h=0.0007037829468970101,N_eff=6803.0). Using fallback (h=0.02849350531777263)\n",
      "WARNING:root:auto bandwidth for yd very small or failed (h=0.0006622864790325919,N_eff=6803.0). Using fallback (h=0.022805706262806313)\n",
      "WARNING:root:auto bandwidth for ldPE very small or failed (h=0.0011993979006591543,N_eff=6803.0). Using fallback (h=0.009191978879138278)\n"
     ]
    },
    {
     "name": "stdout",
     "output_type": "stream",
     "text": [
      "Removed no burn in\n"
     ]
    },
    {
     "name": "stderr",
     "output_type": "stream",
     "text": [
      "WARNING:root:auto bandwidth for lm very small or failed (h=0.0005859651433518984,N_eff=9349.0). Using fallback (h=0.01147275307305108)\n",
      "WARNING:root:auto bandwidth for yd very small or failed (h=0.0005714923805347904,N_eff=9349.0). Using fallback (h=0.02058501764781045)\n"
     ]
    },
    {
     "name": "stdout",
     "output_type": "stream",
     "text": [
      "Removed no burn in\n"
     ]
    },
    {
     "name": "stderr",
     "output_type": "stream",
     "text": [
      "WARNING:root:auto bandwidth for lm very small or failed (h=0.0006900427660145249,N_eff=9196.0). Using fallback (h=0.014494381716003412)\n",
      "WARNING:root:auto bandwidth for r1 very small or failed (h=0.0007455937157025759,N_eff=9196.0). Using fallback (h=0.02123450070718256)\n",
      "WARNING:root:auto bandwidth for yd very small or failed (h=0.0006633411304533519,N_eff=9196.0). Using fallback (h=0.023883676824506234)\n",
      "WARNING:root:auto bandwidth for ldPE very small or failed (h=0.0007712025361667861,N_eff=9196.0). Using fallback (h=0.02183704292164769)\n"
     ]
    },
    {
     "name": "stdout",
     "output_type": "stream",
     "text": [
      "Removed no burn in\n",
      "Removed no burn in\n"
     ]
    },
    {
     "name": "stderr",
     "output_type": "stream",
     "text": [
      "WARNING:root:auto bandwidth for lm very small or failed (h=0.0006742205430124445,N_eff=6372.0). Using fallback (h=0.021946083288727082)\n",
      "WARNING:root:auto bandwidth for c2 very small or failed (h=0.0006186511944369663,N_eff=6372.0). Using fallback (h=0.023127286685327618)\n",
      "WARNING:root:auto bandwidth for r1 very small or failed (h=0.0006440361468070694,N_eff=6372.0). Using fallback (h=0.03135291514647513)\n",
      "WARNING:root:auto bandwidth for yd very small or failed (h=0.0006841298758440842,N_eff=6372.0). Using fallback (h=0.023033484189988733)\n",
      "WARNING:root:auto bandwidth for lPE very small or failed (h=0.0006205142097368983,N_eff=6372.0). Using fallback (h=0.022020739778833256)\n",
      "WARNING:root:auto bandwidth for ldPE very small or failed (h=0.000749728117580763,N_eff=6372.0). Using fallback (h=0.010995582031192046)\n"
     ]
    },
    {
     "name": "stdout",
     "output_type": "stream",
     "text": [
      "Removed no burn in\n"
     ]
    },
    {
     "name": "stderr",
     "output_type": "stream",
     "text": [
      "WARNING:root:auto bandwidth for lm very small or failed (h=0.000559510843670802,N_eff=6678.0). Using fallback (h=0.010867080767892362)\n",
      "WARNING:root:auto bandwidth for yd very small or failed (h=0.000524035417044684,N_eff=6678.0). Using fallback (h=0.022322261328866885)\n",
      "WARNING:root:auto bandwidth for lPE very small or failed (h=0.0006000931395206868,N_eff=6678.0). Using fallback (h=0.011247470599577602)\n"
     ]
    },
    {
     "name": "stdout",
     "output_type": "stream",
     "text": [
      "Removed no burn in\n"
     ]
    },
    {
     "name": "stderr",
     "output_type": "stream",
     "text": [
      "WARNING:root:auto bandwidth for lm very small or failed (h=0.0006244738620415392,N_eff=7704.0). Using fallback (h=0.009751066272464536)\n",
      "WARNING:root:auto bandwidth for r1 very small or failed (h=0.0005961286137690327,N_eff=7704.0). Using fallback (h=0.02699178035553502)\n",
      "WARNING:root:auto bandwidth for lPE very small or failed (h=0.0005413660577346358,N_eff=7704.0). Using fallback (h=0.010813110330145441)\n"
     ]
    },
    {
     "name": "stdout",
     "output_type": "stream",
     "text": [
      "Removed no burn in\n"
     ]
    },
    {
     "name": "stderr",
     "output_type": "stream",
     "text": [
      "WARNING:root:auto bandwidth for lm very small or failed (h=0.0007142821270774011,N_eff=4017.0). Using fallback (h=0.028828335920190237)\n",
      "WARNING:root:auto bandwidth for yd very small or failed (h=0.000727324367036255,N_eff=4017.0). Using fallback (h=0.02502711940401942)\n"
     ]
    },
    {
     "name": "stdout",
     "output_type": "stream",
     "text": [
      "Removed no burn in\n",
      "Removed no burn in\n",
      "Removed no burn in\n",
      "Removed no burn in\n"
     ]
    },
    {
     "name": "stderr",
     "output_type": "stream",
     "text": [
      "WARNING:root:auto bandwidth for lm very small or failed (h=0.000819460558997931,N_eff=5917.0). Using fallback (h=0.01031855989212794)\n"
     ]
    },
    {
     "name": "stdout",
     "output_type": "stream",
     "text": [
      "Removed no burn in\n"
     ]
    },
    {
     "name": "stderr",
     "output_type": "stream",
     "text": [
      "WARNING:root:auto bandwidth for c2 very small or failed (h=0.000688906362896886,N_eff=6374.0). Using fallback (h=0.022425839404851756)\n",
      "WARNING:root:auto bandwidth for r1 very small or failed (h=0.0007233255564488895,N_eff=6374.0). Using fallback (h=0.023481212728904265)\n",
      "WARNING:root:auto bandwidth for yd very small or failed (h=0.0006804591101244484,N_eff=6374.0). Using fallback (h=0.023998065912780687)\n",
      "WARNING:root:auto bandwidth for lPE very small or failed (h=0.0005928607452193106,N_eff=6374.0). Using fallback (h=0.01351582083426525)\n"
     ]
    },
    {
     "name": "stdout",
     "output_type": "stream",
     "text": [
      "Removed no burn in\n"
     ]
    },
    {
     "name": "stderr",
     "output_type": "stream",
     "text": [
      "WARNING:root:auto bandwidth for c2 very small or failed (h=0.0005418797937931236,N_eff=12355.0). Using fallback (h=0.01941035117558606)\n",
      "WARNING:root:auto bandwidth for yd very small or failed (h=0.0005520401768660475,N_eff=12355.0). Using fallback (h=0.020168195820890036)\n",
      "WARNING:root:auto bandwidth for lPE very small or failed (h=0.000580244267486369,N_eff=12355.0). Using fallback (h=0.013694139313457613)\n"
     ]
    },
    {
     "name": "stdout",
     "output_type": "stream",
     "text": [
      "Removed no burn in\n"
     ]
    },
    {
     "name": "stderr",
     "output_type": "stream",
     "text": [
      "WARNING:root:auto bandwidth for r1 very small or failed (h=0.0005694443174915123,N_eff=14120.0). Using fallback (h=0.011471406888684837)\n",
      "WARNING:root:auto bandwidth for yd very small or failed (h=0.0005535282490623525,N_eff=14120.0). Using fallback (h=0.020067961890244065)\n",
      "WARNING:root:auto bandwidth for lPE very small or failed (h=0.0005260214904338962,N_eff=14120.0). Using fallback (h=0.012853792536161243)\n"
     ]
    },
    {
     "name": "stdout",
     "output_type": "stream",
     "text": [
      "Removed no burn in\n"
     ]
    },
    {
     "name": "stderr",
     "output_type": "stream",
     "text": [
      "WARNING:root:auto bandwidth for lm very small or failed (h=0.000716352540003587,N_eff=8114.0). Using fallback (h=0.013550394008998518)\n",
      "WARNING:root:auto bandwidth for c2 very small or failed (h=0.0006337489464522246,N_eff=8114.0). Using fallback (h=0.02243814805868142)\n",
      "WARNING:root:auto bandwidth for yd very small or failed (h=0.0006641308222438604,N_eff=8114.0). Using fallback (h=0.023460496519914484)\n",
      "WARNING:root:auto bandwidth for lPE very small or failed (h=0.00063442146358982,N_eff=8114.0). Using fallback (h=0.013176579736833045)\n"
     ]
    },
    {
     "name": "stdout",
     "output_type": "stream",
     "text": [
      "Removed no burn in\n"
     ]
    },
    {
     "name": "stderr",
     "output_type": "stream",
     "text": [
      "WARNING:root:auto bandwidth for lm very small or failed (h=0.0006909867200380387,N_eff=9182.0). Using fallback (h=0.01649954401536537)\n",
      "WARNING:root:auto bandwidth for c2 very small or failed (h=0.0007074465500427415,N_eff=9182.0). Using fallback (h=0.02124768153413011)\n",
      "WARNING:root:auto bandwidth for r1 very small or failed (h=0.0007602235913003861,N_eff=9182.0). Using fallback (h=0.009457871693279208)\n",
      "WARNING:root:auto bandwidth for yd very small or failed (h=0.0007282792658663066,N_eff=9182.0). Using fallback (h=0.016857856118874776)\n"
     ]
    },
    {
     "name": "stdout",
     "output_type": "stream",
     "text": [
      "Removed no burn in\n"
     ]
    },
    {
     "name": "stderr",
     "output_type": "stream",
     "text": [
      "WARNING:root:auto bandwidth for lm very small or failed (h=0.00064128831527911,N_eff=18517.0). Using fallback (h=0.01584028548876146)\n",
      "WARNING:root:auto bandwidth for c2 very small or failed (h=0.0005718641887574719,N_eff=18517.0). Using fallback (h=0.01680964664840786)\n",
      "WARNING:root:auto bandwidth for yb very small or failed (h=0.0005903924115780706,N_eff=18517.0). Using fallback (h=0.019387646675755366)\n",
      "WARNING:root:auto bandwidth for lPE very small or failed (h=0.0006488831035114139,N_eff=18517.0). Using fallback (h=0.015044916672832625)\n"
     ]
    },
    {
     "name": "stdout",
     "output_type": "stream",
     "text": [
      "Removed no burn in\n"
     ]
    },
    {
     "name": "stderr",
     "output_type": "stream",
     "text": [
      "WARNING:root:auto bandwidth for lm very small or failed (h=0.0006864026383306256,N_eff=18715.0). Using fallback (h=0.013687417718937323)\n",
      "WARNING:root:auto bandwidth for c2 very small or failed (h=0.0006733093226186541,N_eff=18715.0). Using fallback (h=0.017812910700156417)\n",
      "WARNING:root:auto bandwidth for yb very small or failed (h=0.0006460387683459923,N_eff=18715.0). Using fallback (h=0.019237812506351964)\n",
      "WARNING:root:auto bandwidth for lPE very small or failed (h=0.0007868650187704403,N_eff=18715.0). Using fallback (h=0.012953382977425288)\n"
     ]
    },
    {
     "name": "stdout",
     "output_type": "stream",
     "text": [
      "Removed no burn in\n"
     ]
    },
    {
     "name": "stderr",
     "output_type": "stream",
     "text": [
      "WARNING:root:auto bandwidth for lm very small or failed (h=0.0005449797122700531,N_eff=9771.0). Using fallback (h=0.013532938335910506)\n",
      "WARNING:root:auto bandwidth for c2 very small or failed (h=0.000642194343212648,N_eff=9771.0). Using fallback (h=0.017774661846648204)\n",
      "WARNING:root:auto bandwidth for yd very small or failed (h=0.0006036759282525853,N_eff=9771.0). Using fallback (h=0.020882841457545206)\n",
      "WARNING:root:auto bandwidth for yb very small or failed (h=0.0006021396375608123,N_eff=9771.0). Using fallback (h=0.020285474903561983)\n",
      "WARNING:root:auto bandwidth for lPE very small or failed (h=0.0006495618342463823,N_eff=9771.0). Using fallback (h=0.011331861066361883)\n"
     ]
    },
    {
     "name": "stdout",
     "output_type": "stream",
     "text": [
      "Removed no burn in\n"
     ]
    },
    {
     "name": "stderr",
     "output_type": "stream",
     "text": [
      "WARNING:root:auto bandwidth for lm very small or failed (h=0.0006380580972584085,N_eff=10892.0). Using fallback (h=0.01096452201429894)\n",
      "WARNING:root:auto bandwidth for c2 very small or failed (h=0.0006040638573052198,N_eff=10892.0). Using fallback (h=0.01890400307215608)\n",
      "WARNING:root:auto bandwidth for r1 very small or failed (h=0.0005475332127594941,N_eff=10892.0). Using fallback (h=0.01992447956263539)\n",
      "WARNING:root:auto bandwidth for yd very small or failed (h=0.000544941811206696,N_eff=10892.0). Using fallback (h=0.02064760238424719)\n",
      "WARNING:root:auto bandwidth for lPE very small or failed (h=0.000557783021032711,N_eff=10892.0). Using fallback (h=0.00948483621089814)\n",
      "WARNING:root:auto bandwidth for ldPE very small or failed (h=0.000580225047641364,N_eff=10892.0). Using fallback (h=0.020237872336212014)\n"
     ]
    },
    {
     "name": "stdout",
     "output_type": "stream",
     "text": [
      "Removed no burn in\n"
     ]
    },
    {
     "name": "stderr",
     "output_type": "stream",
     "text": [
      "WARNING:root:auto bandwidth for lm very small or failed (h=0.0006169703327056106,N_eff=8788.0). Using fallback (h=0.019934410939152422)\n",
      "WARNING:root:auto bandwidth for c2 very small or failed (h=0.00048383850461775475,N_eff=8788.0). Using fallback (h=0.0247171614132296)\n",
      "WARNING:root:auto bandwidth for yd very small or failed (h=0.0005009323603639735,N_eff=8788.0). Using fallback (h=0.022784893833833145)\n",
      "WARNING:root:auto bandwidth for lPE very small or failed (h=0.0005100010628647659,N_eff=8788.0). Using fallback (h=0.0185262013468073)\n"
     ]
    },
    {
     "name": "stdout",
     "output_type": "stream",
     "text": [
      "Removed no burn in\n"
     ]
    },
    {
     "name": "stderr",
     "output_type": "stream",
     "text": [
      "WARNING:root:auto bandwidth for lm very small or failed (h=0.0004951884227016276,N_eff=10129.0). Using fallback (h=0.014448630487928537)\n",
      "WARNING:root:auto bandwidth for c2 very small or failed (h=0.0005214290926657583,N_eff=10129.0). Using fallback (h=0.01942861816400351)\n",
      "WARNING:root:fine_bins not large enough to well sample smoothing scale - r1\n",
      "WARNING:root:auto bandwidth for yd very small or failed (h=0.0005428783651524188,N_eff=10129.0). Using fallback (h=0.01968706739626713)\n",
      "WARNING:root:auto bandwidth for yb very small or failed (h=0.0005291816574092271,N_eff=10129.0). Using fallback (h=0.021665257131940324)\n",
      "WARNING:root:auto bandwidth for lPE very small or failed (h=0.0005402301077790635,N_eff=10129.0). Using fallback (h=0.014291642739119828)\n",
      "WARNING:root:auto bandwidth for ldPE very small or failed (h=0.0005323751027052162,N_eff=10129.0). Using fallback (h=0.007529729251953458)\n"
     ]
    },
    {
     "name": "stdout",
     "output_type": "stream",
     "text": [
      "Removed no burn in\n"
     ]
    },
    {
     "name": "stderr",
     "output_type": "stream",
     "text": [
      "WARNING:root:auto bandwidth for c2 very small or failed (h=0.0007385889933906177,N_eff=7586.0). Using fallback (h=0.02108851769142405)\n",
      "WARNING:root:auto bandwidth for yd very small or failed (h=0.0006634977821910851,N_eff=7586.0). Using fallback (h=0.022215983599723484)\n"
     ]
    },
    {
     "name": "stdout",
     "output_type": "stream",
     "text": [
      "Removed no burn in\n"
     ]
    },
    {
     "name": "stderr",
     "output_type": "stream",
     "text": [
      "WARNING:root:auto bandwidth for lm very small or failed (h=0.0007323963123591476,N_eff=7910.0). Using fallback (h=0.013030726169782625)\n",
      "WARNING:root:auto bandwidth for c2 very small or failed (h=0.0006369248421955838,N_eff=7910.0). Using fallback (h=0.02242159896103057)\n",
      "WARNING:root:auto bandwidth for r1 very small or failed (h=0.0007215316222925526,N_eff=7910.0). Using fallback (h=0.01590952862139953)\n",
      "WARNING:root:auto bandwidth for yd very small or failed (h=0.0007505355053308324,N_eff=7910.0). Using fallback (h=0.023394897984708344)\n",
      "WARNING:root:auto bandwidth for ldPE very small or failed (h=0.0006226818989776626,N_eff=7910.0). Using fallback (h=0.003832132424905428)\n"
     ]
    },
    {
     "name": "stdout",
     "output_type": "stream",
     "text": [
      "Removed no burn in\n"
     ]
    },
    {
     "name": "stderr",
     "output_type": "stream",
     "text": [
      "WARNING:root:auto bandwidth for lm very small or failed (h=0.0005605266937167881,N_eff=15777.0). Using fallback (h=0.019965712836190096)\n",
      "WARNING:root:auto bandwidth for c2 very small or failed (h=0.0005593340209781669,N_eff=15777.0). Using fallback (h=0.019802342570307052)\n",
      "WARNING:root:auto bandwidth for yd very small or failed (h=0.000545282897332787,N_eff=15777.0). Using fallback (h=0.020524171368271955)\n",
      "WARNING:root:auto bandwidth for yb very small or failed (h=0.0005565773986362712,N_eff=15777.0). Using fallback (h=0.019260314416322356)\n"
     ]
    },
    {
     "name": "stdout",
     "output_type": "stream",
     "text": [
      "Removed no burn in\n"
     ]
    },
    {
     "name": "stderr",
     "output_type": "stream",
     "text": [
      "WARNING:root:auto bandwidth for lm very small or failed (h=0.0005963208250620544,N_eff=13932.0). Using fallback (h=0.019773863944412665)\n",
      "WARNING:root:auto bandwidth for c2 very small or failed (h=0.0005215898736402023,N_eff=13932.0). Using fallback (h=0.019477511863894865)\n",
      "WARNING:root:auto bandwidth for r1 very small or failed (h=0.0005439431120040615,N_eff=13932.0). Using fallback (h=0.014600720756687917)\n",
      "WARNING:root:auto bandwidth for yd very small or failed (h=0.0005869937554089117,N_eff=13932.0). Using fallback (h=0.023032476359547888)\n",
      "WARNING:root:auto bandwidth for yb very small or failed (h=0.0006439650972727068,N_eff=13932.0). Using fallback (h=0.019327981597731858)\n",
      "WARNING:root:auto bandwidth for lPE very small or failed (h=0.0006316787793170803,N_eff=13932.0). Using fallback (h=0.019822818302279496)\n",
      "WARNING:root:auto bandwidth for ldPE very small or failed (h=0.0005524396563800415,N_eff=13932.0). Using fallback (h=0.01770486738612604)\n"
     ]
    },
    {
     "name": "stdout",
     "output_type": "stream",
     "text": [
      "Removed no burn in\n",
      "Removed no burn in\n",
      "Removed no burn in\n"
     ]
    },
    {
     "name": "stderr",
     "output_type": "stream",
     "text": [
      "WARNING:root:auto bandwidth for lm very small or failed (h=0.00048165178435951266,N_eff=18313.0). Using fallback (h=0.0103747086461263)\n",
      "WARNING:root:auto bandwidth for yd very small or failed (h=0.0005456230024984428,N_eff=18313.0). Using fallback (h=0.019519877608530953)\n",
      "WARNING:root:auto bandwidth for lPE very small or failed (h=0.000634420441995323,N_eff=18313.0). Using fallback (h=0.010398922423508063)\n"
     ]
    },
    {
     "name": "stdout",
     "output_type": "stream",
     "text": [
      "Removed no burn in\n"
     ]
    },
    {
     "name": "stderr",
     "output_type": "stream",
     "text": [
      "WARNING:root:auto bandwidth for lm very small or failed (h=0.0006342830322822096,N_eff=14211.0). Using fallback (h=0.0166722373439154)\n",
      "WARNING:root:auto bandwidth for r1 very small or failed (h=0.0007468434475317494,N_eff=14211.0). Using fallback (h=0.008441618814279296)\n",
      "WARNING:root:auto bandwidth for yd very small or failed (h=0.0008062848980689832,N_eff=14211.0). Using fallback (h=0.020046761928842638)\n",
      "WARNING:root:auto bandwidth for lPE very small or failed (h=0.0008036281721266691,N_eff=14211.0). Using fallback (h=0.017083194560915192)\n",
      "WARNING:root:auto bandwidth for ldPE very small or failed (h=0.0006594894215774044,N_eff=14211.0). Using fallback (h=0.0172812249942353)\n"
     ]
    },
    {
     "name": "stdout",
     "output_type": "stream",
     "text": [
      "Removed no burn in\n"
     ]
    },
    {
     "name": "stderr",
     "output_type": "stream",
     "text": [
      "WARNING:root:auto bandwidth for lm very small or failed (h=0.0007618382643128631,N_eff=5508.0). Using fallback (h=0.012364330463252351)\n",
      "WARNING:root:auto bandwidth for c2 very small or failed (h=0.0008235545485467309,N_eff=5508.0). Using fallback (h=0.022401141031303796)\n",
      "WARNING:root:auto bandwidth for lPE very small or failed (h=0.000817581483581467,N_eff=5508.0). Using fallback (h=0.012001603750478264)\n"
     ]
    },
    {
     "name": "stdout",
     "output_type": "stream",
     "text": [
      "Removed no burn in\n",
      "Removed no burn in\n"
     ]
    },
    {
     "name": "stderr",
     "output_type": "stream",
     "text": [
      "WARNING:root:auto bandwidth for c2 very small or failed (h=0.000565586984770461,N_eff=5305.0). Using fallback (h=0.026181090688543945)\n",
      "WARNING:root:auto bandwidth for yd very small or failed (h=0.0006068715631530282,N_eff=5305.0). Using fallback (h=0.02579629251881088)\n",
      "WARNING:root:auto bandwidth for lPE very small or failed (h=0.0005662267237143721,N_eff=5305.0). Using fallback (h=0.017906009996047047)\n"
     ]
    },
    {
     "name": "stdout",
     "output_type": "stream",
     "text": [
      "Removed no burn in\n"
     ]
    },
    {
     "name": "stderr",
     "output_type": "stream",
     "text": [
      "WARNING:root:auto bandwidth for lm very small or failed (h=0.0007183089759048279,N_eff=6224.0). Using fallback (h=0.013688946355467604)\n",
      "WARNING:root:auto bandwidth for r1 very small or failed (h=0.0006047257432536018,N_eff=6224.0). Using fallback (h=0.019847873773207538)\n",
      "WARNING:root:auto bandwidth for lPE very small or failed (h=0.0006460544974054842,N_eff=6224.0). Using fallback (h=0.013433050455795698)\n",
      "WARNING:root:auto bandwidth for ldPE very small or failed (h=0.0006507503051723139,N_eff=6224.0). Using fallback (h=0.011439770273316708)\n"
     ]
    },
    {
     "name": "stdout",
     "output_type": "stream",
     "text": [
      "Removed no burn in\n"
     ]
    },
    {
     "name": "stderr",
     "output_type": "stream",
     "text": [
      "WARNING:root:auto bandwidth for lm very small or failed (h=0.000660738932038267,N_eff=5954.0). Using fallback (h=0.02320236351559291)\n",
      "WARNING:root:auto bandwidth for lPE very small or failed (h=0.0008073443635073147,N_eff=5954.0). Using fallback (h=0.02277839385012178)\n"
     ]
    },
    {
     "name": "stdout",
     "output_type": "stream",
     "text": [
      "Removed no burn in\n"
     ]
    },
    {
     "name": "stderr",
     "output_type": "stream",
     "text": [
      "WARNING:root:auto bandwidth for lm very small or failed (h=0.0006067747583930733,N_eff=5106.0). Using fallback (h=0.0184538342133766)\n",
      "WARNING:root:auto bandwidth for r1 very small or failed (h=0.0006988906018098866,N_eff=5106.0). Using fallback (h=0.0120312445297722)\n",
      "WARNING:root:auto bandwidth for yd very small or failed (h=0.0007363714118112331,N_eff=5106.0). Using fallback (h=0.022758233461864615)\n",
      "WARNING:root:auto bandwidth for lPE very small or failed (h=0.0006624386234148909,N_eff=5106.0). Using fallback (h=0.018382646732943497)\n"
     ]
    },
    {
     "name": "stdout",
     "output_type": "stream",
     "text": [
      "Removed no burn in\n",
      "Removed no burn in\n"
     ]
    },
    {
     "name": "stderr",
     "output_type": "stream",
     "text": [
      "WARNING:root:auto bandwidth for lm very small or failed (h=0.0006334612259906396,N_eff=10046.0). Using fallback (h=0.020389245020693413)\n",
      "WARNING:root:auto bandwidth for c2 very small or failed (h=0.0005920725305034188,N_eff=10046.0). Using fallback (h=0.022414246947073543)\n",
      "WARNING:root:auto bandwidth for r1 very small or failed (h=0.0005782041590564767,N_eff=10046.0). Using fallback (h=0.020759361387795102)\n",
      "WARNING:root:auto bandwidth for yd very small or failed (h=0.0006324014372433983,N_eff=10046.0). Using fallback (h=0.022792718505509037)\n",
      "WARNING:root:auto bandwidth for yb very small or failed (h=0.000628596023014862,N_eff=10046.0). Using fallback (h=0.021138001564383814)\n",
      "WARNING:root:auto bandwidth for lPE very small or failed (h=0.0005918768900989006,N_eff=10046.0). Using fallback (h=0.020947286187055495)\n"
     ]
    },
    {
     "name": "stdout",
     "output_type": "stream",
     "text": [
      "Removed no burn in\n"
     ]
    },
    {
     "name": "stderr",
     "output_type": "stream",
     "text": [
      "WARNING:root:auto bandwidth for lm very small or failed (h=0.0006667877269862407,N_eff=7022.0). Using fallback (h=0.009186791657860708)\n",
      "WARNING:root:auto bandwidth for lPE very small or failed (h=0.0008844473224920819,N_eff=7022.0). Using fallback (h=0.008204890741040626)\n"
     ]
    },
    {
     "name": "stdout",
     "output_type": "stream",
     "text": [
      "Removed no burn in\n"
     ]
    },
    {
     "name": "stderr",
     "output_type": "stream",
     "text": [
      "WARNING:root:auto bandwidth for yd very small or failed (h=0.0006821171413422529,N_eff=7740.0). Using fallback (h=0.023794029697240923)\n",
      "WARNING:root:auto bandwidth for lPE very small or failed (h=0.0007024109742158982,N_eff=7740.0). Using fallback (h=0.010462653455998895)\n"
     ]
    },
    {
     "name": "stdout",
     "output_type": "stream",
     "text": [
      "Removed no burn in\n",
      "Removed no burn in\n"
     ]
    },
    {
     "name": "stderr",
     "output_type": "stream",
     "text": [
      "WARNING:root:auto bandwidth for yd very small or failed (h=0.0006579772400222332,N_eff=7704.0). Using fallback (h=0.023251486375853787)\n"
     ]
    },
    {
     "name": "stdout",
     "output_type": "stream",
     "text": [
      "Removed no burn in\n"
     ]
    },
    {
     "name": "stderr",
     "output_type": "stream",
     "text": [
      "WARNING:root:auto bandwidth for lPE very small or failed (h=0.0009083514910836298,N_eff=5514.0). Using fallback (h=0.02468851402650217)\n"
     ]
    },
    {
     "name": "stdout",
     "output_type": "stream",
     "text": [
      "Removed no burn in\n"
     ]
    },
    {
     "name": "stderr",
     "output_type": "stream",
     "text": [
      "WARNING:root:auto bandwidth for lm very small or failed (h=0.0006327223289655902,N_eff=6062.0). Using fallback (h=0.016843598476299734)\n",
      "WARNING:root:auto bandwidth for r1 very small or failed (h=0.0008123915303787733,N_eff=6062.0). Using fallback (h=0.0199055654613245)\n",
      "WARNING:root:auto bandwidth for lPE very small or failed (h=0.0006929055199756943,N_eff=6062.0). Using fallback (h=0.016482016307465982)\n",
      "WARNING:root:auto bandwidth for ldPE very small or failed (h=0.00147907217248318,N_eff=6062.0). Using fallback (h=0.017981741964663754)\n"
     ]
    },
    {
     "name": "stdout",
     "output_type": "stream",
     "text": [
      "Removed no burn in\n"
     ]
    },
    {
     "name": "stderr",
     "output_type": "stream",
     "text": [
      "WARNING:root:auto bandwidth for lm very small or failed (h=0.0007324210883981673,N_eff=4140.0). Using fallback (h=0.027227241386224246)\n"
     ]
    },
    {
     "name": "stdout",
     "output_type": "stream",
     "text": [
      "Removed no burn in\n"
     ]
    },
    {
     "name": "stderr",
     "output_type": "stream",
     "text": [
      "WARNING:root:auto bandwidth for lm very small or failed (h=0.0008635839044176837,N_eff=4263.0). Using fallback (h=0.026518971325242398)\n"
     ]
    },
    {
     "name": "stdout",
     "output_type": "stream",
     "text": [
      "Removed no burn in\n",
      "Removed no burn in\n"
     ]
    },
    {
     "name": "stderr",
     "output_type": "stream",
     "text": [
      "WARNING:root:auto bandwidth for lm very small or failed (h=0.0014199882638132506,N_eff=7721.0). Using fallback (h=0.009330927636044846)\n",
      "WARNING:root:auto bandwidth for r1 very small or failed (h=0.000750900833367334,N_eff=7721.0). Using fallback (h=0.026188234090184156)\n",
      "WARNING:root:auto bandwidth for ldPE very small or failed (h=0.0007865993992355547,N_eff=7721.0). Using fallback (h=0.018854219547959267)\n"
     ]
    },
    {
     "name": "stdout",
     "output_type": "stream",
     "text": [
      "Removed no burn in\n"
     ]
    },
    {
     "name": "stderr",
     "output_type": "stream",
     "text": [
      "WARNING:root:auto bandwidth for lm very small or failed (h=0.0006390864316539413,N_eff=5854.0). Using fallback (h=0.022457328253646935)\n",
      "WARNING:root:auto bandwidth for lPE very small or failed (h=0.0006557738683977275,N_eff=5854.0). Using fallback (h=0.02245276303623342)\n"
     ]
    },
    {
     "name": "stdout",
     "output_type": "stream",
     "text": [
      "Removed no burn in\n"
     ]
    },
    {
     "name": "stderr",
     "output_type": "stream",
     "text": [
      "WARNING:root:auto bandwidth for lm very small or failed (h=0.0006617297604830987,N_eff=5452.0). Using fallback (h=0.018302819469071457)\n",
      "WARNING:root:auto bandwidth for r1 very small or failed (h=0.0006064675655870719,N_eff=5452.0). Using fallback (h=0.022573773094085266)\n",
      "WARNING:root:auto bandwidth for yb very small or failed (h=0.0007107142890862667,N_eff=5452.0). Using fallback (h=0.024465053894385094)\n",
      "WARNING:root:auto bandwidth for ldPE very small or failed (h=0.000617368240136186,N_eff=5452.0). Using fallback (h=0.006029629389085647)\n"
     ]
    },
    {
     "name": "stdout",
     "output_type": "stream",
     "text": [
      "Removed no burn in\n"
     ]
    },
    {
     "name": "stderr",
     "output_type": "stream",
     "text": [
      "WARNING:root:auto bandwidth for lm very small or failed (h=0.0007239294313062032,N_eff=9196.0). Using fallback (h=0.01202066480752977)\n",
      "WARNING:root:auto bandwidth for yd very small or failed (h=0.0006741410943768555,N_eff=9196.0). Using fallback (h=0.02100692118789321)\n",
      "WARNING:root:auto bandwidth for lPE very small or failed (h=0.0007587852956788347,N_eff=9196.0). Using fallback (h=0.012022667523911148)\n"
     ]
    },
    {
     "name": "stdout",
     "output_type": "stream",
     "text": [
      "Removed no burn in\n"
     ]
    },
    {
     "name": "stderr",
     "output_type": "stream",
     "text": [
      "WARNING:root:auto bandwidth for lm very small or failed (h=0.0014167776093678736,N_eff=8073.0). Using fallback (h=0.009685249913778294)\n"
     ]
    },
    {
     "name": "stdout",
     "output_type": "stream",
     "text": [
      "Removed no burn in\n",
      "Removed no burn in\n"
     ]
    },
    {
     "name": "stderr",
     "output_type": "stream",
     "text": [
      "WARNING:root:auto bandwidth for r1 very small or failed (h=0.0008517614409462006,N_eff=4802.0). Using fallback (h=0.023666507452944508)\n",
      "WARNING:root:auto bandwidth for ldPE very small or failed (h=0.0007461793607042848,N_eff=4802.0). Using fallback (h=0.008917788419020559)\n"
     ]
    },
    {
     "name": "stdout",
     "output_type": "stream",
     "text": [
      "Removed no burn in\n",
      "Removed no burn in\n"
     ]
    },
    {
     "name": "stderr",
     "output_type": "stream",
     "text": [
      "WARNING:root:auto bandwidth for r1 very small or failed (h=0.0006127221001168752,N_eff=9970.0). Using fallback (h=0.01730073756930444)\n",
      "WARNING:root:auto bandwidth for ldPE very small or failed (h=0.0005663341671892873,N_eff=9970.0). Using fallback (h=0.005924081798052385)\n"
     ]
    },
    {
     "name": "stdout",
     "output_type": "stream",
     "text": [
      "Removed no burn in\n"
     ]
    },
    {
     "name": "stderr",
     "output_type": "stream",
     "text": [
      "WARNING:root:auto bandwidth for lm very small or failed (h=0.0006017052790723194,N_eff=19567.0). Using fallback (h=0.01840011477141728)\n",
      "WARNING:root:auto bandwidth for c2 very small or failed (h=0.0005130063806132319,N_eff=19567.0). Using fallback (h=0.017687146927057775)\n",
      "WARNING:root:auto bandwidth for yd very small or failed (h=0.0005326224479569843,N_eff=19567.0). Using fallback (h=0.019010899992152518)\n",
      "WARNING:root:auto bandwidth for yb very small or failed (h=0.000520451099934304,N_eff=19567.0). Using fallback (h=0.019593743866512282)\n",
      "WARNING:root:auto bandwidth for lPE very small or failed (h=0.0005233482351944109,N_eff=19567.0). Using fallback (h=0.018447601582267298)\n"
     ]
    },
    {
     "name": "stdout",
     "output_type": "stream",
     "text": [
      "Removed no burn in\n"
     ]
    },
    {
     "name": "stderr",
     "output_type": "stream",
     "text": [
      "WARNING:root:auto bandwidth for lm very small or failed (h=0.0005335806641766883,N_eff=22207.0). Using fallback (h=0.018980727486228807)\n",
      "WARNING:root:auto bandwidth for c2 very small or failed (h=0.0005499804095489574,N_eff=22207.0). Using fallback (h=0.018048538060820598)\n",
      "WARNING:root:auto bandwidth for r1 very small or failed (h=0.0004873752931716543,N_eff=22207.0). Using fallback (h=0.01716645535769831)\n",
      "WARNING:root:auto bandwidth for yd very small or failed (h=0.0005412856690517869,N_eff=22207.0). Using fallback (h=0.016583678008279416)\n",
      "WARNING:root:auto bandwidth for yb very small or failed (h=0.00051629850204214,N_eff=22207.0). Using fallback (h=0.018949190362871807)\n",
      "WARNING:root:auto bandwidth for lPE very small or failed (h=0.0004869527524684393,N_eff=22207.0). Using fallback (h=0.019024780847778065)\n",
      "WARNING:root:auto bandwidth for ldPE very small or failed (h=0.0005525922413597435,N_eff=22207.0). Using fallback (h=0.01890504803886929)\n"
     ]
    },
    {
     "name": "stdout",
     "output_type": "stream",
     "text": [
      "Removed no burn in\n"
     ]
    },
    {
     "name": "stderr",
     "output_type": "stream",
     "text": [
      "WARNING:root:auto bandwidth for lm very small or failed (h=0.0012188999972890802,N_eff=6357.0). Using fallback (h=0.0280484918673283)\n"
     ]
    },
    {
     "name": "stdout",
     "output_type": "stream",
     "text": [
      "Removed no burn in\n",
      "Removed no burn in\n",
      "Removed no burn in\n"
     ]
    },
    {
     "name": "stderr",
     "output_type": "stream",
     "text": [
      "WARNING:root:auto bandwidth for ldPE very small or failed (h=0.0006878841644436482,N_eff=4902.0). Using fallback (h=0.008817682931171801)\n"
     ]
    },
    {
     "name": "stdout",
     "output_type": "stream",
     "text": [
      "Removed no burn in\n"
     ]
    },
    {
     "name": "stderr",
     "output_type": "stream",
     "text": [
      "WARNING:root:auto bandwidth for lPE very small or failed (h=0.0007172589009483138,N_eff=3953.0). Using fallback (h=0.026334462519559718)\n"
     ]
    },
    {
     "name": "stdout",
     "output_type": "stream",
     "text": [
      "Removed no burn in\n",
      "Removed no burn in\n"
     ]
    },
    {
     "name": "stderr",
     "output_type": "stream",
     "text": [
      "WARNING:root:auto bandwidth for lPE very small or failed (h=0.0012792730580429802,N_eff=6152.0). Using fallback (h=0.01090518599868893)\n"
     ]
    },
    {
     "name": "stdout",
     "output_type": "stream",
     "text": [
      "Removed no burn in\n"
     ]
    },
    {
     "name": "stderr",
     "output_type": "stream",
     "text": [
      "WARNING:root:auto bandwidth for lm very small or failed (h=0.0006689604884419229,N_eff=6811.0). Using fallback (h=0.011284406892627125)\n",
      "WARNING:root:auto bandwidth for c2 very small or failed (h=0.0008541699039823685,N_eff=6811.0). Using fallback (h=0.024167926150777647)\n",
      "WARNING:root:auto bandwidth for r1 very small or failed (h=0.0007625661964506308,N_eff=6811.0). Using fallback (h=0.024905833774560918)\n",
      "WARNING:root:auto bandwidth for lPE very small or failed (h=0.0010404758968600694,N_eff=6811.0). Using fallback (h=0.01074472599426065)\n"
     ]
    },
    {
     "name": "stdout",
     "output_type": "stream",
     "text": [
      "Removed no burn in\n"
     ]
    },
    {
     "name": "stderr",
     "output_type": "stream",
     "text": [
      "WARNING:root:auto bandwidth for lm very small or failed (h=0.0006351081119577258,N_eff=10615.0). Using fallback (h=0.02179697624865027)\n",
      "WARNING:root:auto bandwidth for yd very small or failed (h=0.0006060548543435409,N_eff=10615.0). Using fallback (h=0.022153337598348363)\n",
      "WARNING:root:auto bandwidth for yb very small or failed (h=0.0005302894122829184,N_eff=10615.0). Using fallback (h=0.022403414644341042)\n",
      "WARNING:root:auto bandwidth for lPE very small or failed (h=0.0006267469420736675,N_eff=10615.0). Using fallback (h=0.021838842530911434)\n"
     ]
    },
    {
     "name": "stdout",
     "output_type": "stream",
     "text": [
      "Removed no burn in\n"
     ]
    },
    {
     "name": "stderr",
     "output_type": "stream",
     "text": [
      "WARNING:root:auto bandwidth for lm very small or failed (h=0.000690778107672305,N_eff=10254.0). Using fallback (h=0.021368743325818087)\n",
      "WARNING:root:auto bandwidth for r1 very small or failed (h=0.000914831929488449,N_eff=10254.0). Using fallback (h=0.013610088669591356)\n",
      "WARNING:root:auto bandwidth for yb very small or failed (h=0.0006214227372026178,N_eff=10254.0). Using fallback (h=0.02172353896853476)\n",
      "WARNING:root:auto bandwidth for lPE very small or failed (h=0.0006492177210794519,N_eff=10254.0). Using fallback (h=0.021214493646573733)\n",
      "WARNING:root:auto bandwidth for ldPE very small or failed (h=0.0007230482560506089,N_eff=10254.0). Using fallback (h=0.007779587055534687)\n"
     ]
    },
    {
     "name": "stdout",
     "output_type": "stream",
     "text": [
      "Removed no burn in\n"
     ]
    },
    {
     "name": "stderr",
     "output_type": "stream",
     "text": [
      "WARNING:root:auto bandwidth for lPE very small or failed (h=0.0010236586290876617,N_eff=6902.0). Using fallback (h=0.0071646711056184455)\n"
     ]
    },
    {
     "name": "stdout",
     "output_type": "stream",
     "text": [
      "Removed no burn in\n"
     ]
    },
    {
     "name": "stderr",
     "output_type": "stream",
     "text": [
      "WARNING:root:auto bandwidth for lPE very small or failed (h=0.0009133526147766028,N_eff=7791.0). Using fallback (h=0.010784018054816037)\n"
     ]
    },
    {
     "name": "stdout",
     "output_type": "stream",
     "text": [
      "Removed no burn in\n"
     ]
    },
    {
     "name": "stderr",
     "output_type": "stream",
     "text": [
      "WARNING:root:auto bandwidth for lm very small or failed (h=0.000534064116181867,N_eff=14408.0). Using fallback (h=0.012876920874205819)\n",
      "WARNING:root:auto bandwidth for c2 very small or failed (h=0.0006364296870855223,N_eff=14408.0). Using fallback (h=0.0199665271656115)\n",
      "WARNING:root:auto bandwidth for yd very small or failed (h=0.0005476788622324918,N_eff=14408.0). Using fallback (h=0.01867095342240329)\n",
      "WARNING:root:auto bandwidth for lPE very small or failed (h=0.0005539484639300586,N_eff=14408.0). Using fallback (h=0.01265388995026628)\n"
     ]
    },
    {
     "name": "stdout",
     "output_type": "stream",
     "text": [
      "Removed no burn in\n"
     ]
    },
    {
     "name": "stderr",
     "output_type": "stream",
     "text": [
      "WARNING:root:auto bandwidth for lm very small or failed (h=0.0006569522634959955,N_eff=15457.0). Using fallback (h=0.007179779981195851)\n",
      "WARNING:root:auto bandwidth for c2 very small or failed (h=0.0006142203160402363,N_eff=15457.0). Using fallback (h=0.019133793012591768)\n",
      "WARNING:root:auto bandwidth for r1 very small or failed (h=0.0004929067226868084,N_eff=15457.0). Using fallback (h=0.006078228035411916)\n",
      "WARNING:root:auto bandwidth for yd very small or failed (h=0.0005825580464194495,N_eff=15457.0). Using fallback (h=0.013471767241003218)\n",
      "WARNING:root:auto bandwidth for lPE very small or failed (h=0.0006199287149983687,N_eff=15457.0). Using fallback (h=0.006548090299797777)\n",
      "WARNING:root:auto bandwidth for ldPE very small or failed (h=0.000545018755899419,N_eff=15457.0). Using fallback (h=0.009230793146536057)\n"
     ]
    },
    {
     "name": "stdout",
     "output_type": "stream",
     "text": [
      "Removed no burn in\n"
     ]
    },
    {
     "name": "stderr",
     "output_type": "stream",
     "text": [
      "WARNING:root:auto bandwidth for c2 very small or failed (h=0.0011890980529470807,N_eff=5631.0). Using fallback (h=0.025986539211008824)\n",
      "WARNING:root:auto bandwidth for lPE very small or failed (h=0.0013014039829142776,N_eff=5631.0). Using fallback (h=0.018006535003056396)\n"
     ]
    },
    {
     "name": "stdout",
     "output_type": "stream",
     "text": [
      "Removed no burn in\n"
     ]
    },
    {
     "name": "stderr",
     "output_type": "stream",
     "text": [
      "WARNING:root:auto bandwidth for lPE very small or failed (h=0.0014843822955492307,N_eff=6063.0). Using fallback (h=0.012823861800056627)\n"
     ]
    },
    {
     "name": "stdout",
     "output_type": "stream",
     "text": [
      "Removed no burn in\n",
      "Removed no burn in\n"
     ]
    },
    {
     "name": "stderr",
     "output_type": "stream",
     "text": [
      "WARNING:root:auto bandwidth for c2 very small or failed (h=0.0008364063491918579,N_eff=4490.0). Using fallback (h=0.02593780565436969)\n",
      "WARNING:root:auto bandwidth for r1 very small or failed (h=0.0011054260681203707,N_eff=4490.0). Using fallback (h=0.019105381470890154)\n",
      "WARNING:root:auto bandwidth for lPE very small or failed (h=0.0007547958460467313,N_eff=4490.0). Using fallback (h=0.019056800194079467)\n"
     ]
    },
    {
     "name": "stdout",
     "output_type": "stream",
     "text": [
      "Removed no burn in\n"
     ]
    },
    {
     "name": "stderr",
     "output_type": "stream",
     "text": [
      "WARNING:root:auto bandwidth for c2 very small or failed (h=0.0005863189432620733,N_eff=5499.0). Using fallback (h=0.0239088691853985)\n",
      "WARNING:root:auto bandwidth for yd very small or failed (h=0.0008800342725540024,N_eff=5499.0). Using fallback (h=0.019683723626163028)\n"
     ]
    },
    {
     "name": "stdout",
     "output_type": "stream",
     "text": [
      "Removed no burn in\n"
     ]
    },
    {
     "name": "stderr",
     "output_type": "stream",
     "text": [
      "WARNING:root:auto bandwidth for ldPE very small or failed (h=0.0006083085524298353,N_eff=6379.0). Using fallback (h=0.0074693743979113245)\n"
     ]
    },
    {
     "name": "stdout",
     "output_type": "stream",
     "text": [
      "Removed no burn in\n"
     ]
    },
    {
     "name": "stderr",
     "output_type": "stream",
     "text": [
      "WARNING:root:auto bandwidth for lm very small or failed (h=0.0005500384975758773,N_eff=6182.0). Using fallback (h=0.01439092803343211)\n",
      "WARNING:root:auto bandwidth for lPE very small or failed (h=0.000577074046830037,N_eff=6182.0). Using fallback (h=0.01415703011552159)\n"
     ]
    },
    {
     "name": "stdout",
     "output_type": "stream",
     "text": [
      "Removed no burn in\n"
     ]
    },
    {
     "name": "stderr",
     "output_type": "stream",
     "text": [
      "WARNING:root:auto bandwidth for lm very small or failed (h=0.0005294072530457121,N_eff=7030.0). Using fallback (h=0.011319308576137157)\n",
      "WARNING:root:auto bandwidth for c2 very small or failed (h=0.0006072295082030139,N_eff=7030.0). Using fallback (h=0.017975411537767275)\n",
      "WARNING:root:auto bandwidth for r1 very small or failed (h=0.0006307934105561058,N_eff=7030.0). Using fallback (h=0.02374720589786547)\n",
      "WARNING:root:auto bandwidth for lPE very small or failed (h=0.000621944566659624,N_eff=7030.0). Using fallback (h=0.011067223714310804)\n",
      "WARNING:root:auto bandwidth for ldPE very small or failed (h=0.0006286554211529268,N_eff=7030.0). Using fallback (h=0.012013156881160558)\n"
     ]
    },
    {
     "name": "stdout",
     "output_type": "stream",
     "text": [
      "Removed no burn in\n",
      "Removed no burn in\n"
     ]
    },
    {
     "name": "stderr",
     "output_type": "stream",
     "text": [
      "WARNING:root:auto bandwidth for yd very small or failed (h=0.0008752099256871972,N_eff=5012.0). Using fallback (h=0.023935191618120653)\n"
     ]
    },
    {
     "name": "stdout",
     "output_type": "stream",
     "text": [
      "Removed no burn in\n",
      "Removed no burn in\n"
     ]
    },
    {
     "name": "stderr",
     "output_type": "stream",
     "text": [
      "WARNING:root:auto bandwidth for r1 very small or failed (h=0.0007193030238191431,N_eff=4535.0). Using fallback (h=0.009354438118321673)\n"
     ]
    },
    {
     "name": "stdout",
     "output_type": "stream",
     "text": [
      "Removed no burn in\n",
      "Removed no burn in\n",
      "Removed no burn in\n"
     ]
    },
    {
     "name": "stderr",
     "output_type": "stream",
     "text": [
      "WARNING:root:auto bandwidth for c2 very small or failed (h=0.0006350184819904463,N_eff=5914.0). Using fallback (h=0.024945785082274602)\n",
      "WARNING:root:auto bandwidth for yd very small or failed (h=0.0006615802849226303,N_eff=5914.0). Using fallback (h=0.025481931202879712)\n"
     ]
    },
    {
     "name": "stdout",
     "output_type": "stream",
     "text": [
      "Removed no burn in\n"
     ]
    },
    {
     "name": "stderr",
     "output_type": "stream",
     "text": [
      "WARNING:root:auto bandwidth for lm very small or failed (h=0.0005897027091100387,N_eff=6339.0). Using fallback (h=0.02362579071815873)\n",
      "WARNING:root:auto bandwidth for c2 very small or failed (h=0.000551639563826972,N_eff=6339.0). Using fallback (h=0.02391989358835088)\n",
      "WARNING:root:auto bandwidth for yd very small or failed (h=0.0006429149962178573,N_eff=6339.0). Using fallback (h=0.02437477270868887)\n",
      "WARNING:root:auto bandwidth for ldPE very small or failed (h=0.000573003798580733,N_eff=6339.0). Using fallback (h=0.023668495936099355)\n"
     ]
    },
    {
     "name": "stdout",
     "output_type": "stream",
     "text": [
      "Removed no burn in\n"
     ]
    },
    {
     "name": "stderr",
     "output_type": "stream",
     "text": [
      "WARNING:root:auto bandwidth for lm very small or failed (h=0.0013088047836492638,N_eff=5043.0). Using fallback (h=0.015761577670493618)\n",
      "WARNING:root:auto bandwidth for lPE very small or failed (h=0.0008077607855742559,N_eff=5043.0). Using fallback (h=0.015749263106200218)\n"
     ]
    },
    {
     "name": "stdout",
     "output_type": "stream",
     "text": [
      "Removed no burn in\n"
     ]
    },
    {
     "name": "stderr",
     "output_type": "stream",
     "text": [
      "WARNING:root:auto bandwidth for r1 very small or failed (h=0.0007243686918653093,N_eff=5841.0). Using fallback (h=0.026518432676333678)\n",
      "WARNING:root:auto bandwidth for lPE very small or failed (h=0.0007080034867852098,N_eff=5841.0). Using fallback (h=0.013449398312928434)\n"
     ]
    },
    {
     "name": "stdout",
     "output_type": "stream",
     "text": [
      "Removed no burn in\n",
      "Removed no burn in\n"
     ]
    },
    {
     "name": "stderr",
     "output_type": "stream",
     "text": [
      "WARNING:root:auto bandwidth for r1 very small or failed (h=0.0007396736001952981,N_eff=7463.0). Using fallback (h=0.013708902678923926)\n"
     ]
    },
    {
     "name": "stdout",
     "output_type": "stream",
     "text": [
      "Removed no burn in\n",
      "Removed no burn in\n"
     ]
    },
    {
     "name": "stderr",
     "output_type": "stream",
     "text": [
      "WARNING:root:auto bandwidth for lm very small or failed (h=0.0006738520167564458,N_eff=7794.0). Using fallback (h=0.015686185885614053)\n",
      "WARNING:root:auto bandwidth for lPE very small or failed (h=0.0011961147116054593,N_eff=7794.0). Using fallback (h=0.015351994626272274)\n"
     ]
    },
    {
     "name": "stdout",
     "output_type": "stream",
     "text": [
      "Removed no burn in\n"
     ]
    },
    {
     "name": "stderr",
     "output_type": "stream",
     "text": [
      "WARNING:root:auto bandwidth for c2 very small or failed (h=0.0005264267611227575,N_eff=8953.0). Using fallback (h=0.020377727480813422)\n",
      "WARNING:root:auto bandwidth for yd very small or failed (h=0.0005311379942892476,N_eff=8953.0). Using fallback (h=0.021299070601704898)\n",
      "WARNING:root:auto bandwidth for yb very small or failed (h=0.0006240687083471349,N_eff=8953.0). Using fallback (h=0.021009615888742568)\n",
      "WARNING:root:auto bandwidth for lPE very small or failed (h=0.0005825861512031554,N_eff=8953.0). Using fallback (h=0.020375742568855482)\n"
     ]
    },
    {
     "name": "stdout",
     "output_type": "stream",
     "text": [
      "Removed no burn in\n"
     ]
    },
    {
     "name": "stderr",
     "output_type": "stream",
     "text": [
      "WARNING:root:auto bandwidth for c2 very small or failed (h=0.0005568364080313165,N_eff=9639.0). Using fallback (h=0.02156047303652509)\n",
      "WARNING:root:auto bandwidth for r1 very small or failed (h=0.0005573107430379339,N_eff=9639.0). Using fallback (h=0.02383476605116406)\n",
      "WARNING:root:auto bandwidth for yd very small or failed (h=0.0005747593247773454,N_eff=9639.0). Using fallback (h=0.02135569243912695)\n",
      "WARNING:root:auto bandwidth for yb very small or failed (h=0.0005880894282395114,N_eff=9639.0). Using fallback (h=0.020772390939213323)\n",
      "WARNING:root:auto bandwidth for ldPE very small or failed (h=0.0005274391286129265,N_eff=9639.0). Using fallback (h=0.02283640351637015)\n"
     ]
    },
    {
     "name": "stdout",
     "output_type": "stream",
     "text": [
      "Removed no burn in\n"
     ]
    },
    {
     "name": "stderr",
     "output_type": "stream",
     "text": [
      "WARNING:root:auto bandwidth for lm very small or failed (h=0.0008031396186386776,N_eff=4717.0). Using fallback (h=0.011970906152210348)\n"
     ]
    },
    {
     "name": "stdout",
     "output_type": "stream",
     "text": [
      "Removed no burn in\n"
     ]
    },
    {
     "name": "stderr",
     "output_type": "stream",
     "text": [
      "WARNING:root:auto bandwidth for lm very small or failed (h=0.0008061236317418521,N_eff=4761.0). Using fallback (h=0.009751659107947664)\n",
      "WARNING:root:auto bandwidth for r1 very small or failed (h=0.0011979890328925086,N_eff=4761.0). Using fallback (h=0.01529183413956871)\n",
      "WARNING:root:auto bandwidth for lPE very small or failed (h=0.0010011083745374606,N_eff=4761.0). Using fallback (h=0.009604561175192192)\n"
     ]
    },
    {
     "name": "stdout",
     "output_type": "stream",
     "text": [
      "Removed no burn in\n"
     ]
    },
    {
     "name": "stderr",
     "output_type": "stream",
     "text": [
      "WARNING:root:auto bandwidth for lPE very small or failed (h=0.0013134487136953071,N_eff=4769.0). Using fallback (h=0.014391918799611459)\n"
     ]
    },
    {
     "name": "stdout",
     "output_type": "stream",
     "text": [
      "Removed no burn in\n"
     ]
    },
    {
     "name": "stderr",
     "output_type": "stream",
     "text": [
      "WARNING:root:auto bandwidth for yd very small or failed (h=0.0006495063808260628,N_eff=5200.0). Using fallback (h=0.02222191276877183)\n"
     ]
    },
    {
     "name": "stdout",
     "output_type": "stream",
     "text": [
      "Removed no burn in\n",
      "Removed no burn in\n",
      "Removed no burn in\n"
     ]
    },
    {
     "name": "stderr",
     "output_type": "stream",
     "text": [
      "WARNING:root:auto bandwidth for lm very small or failed (h=0.000644634668978372,N_eff=6852.0). Using fallback (h=0.028449185146016943)\n",
      "WARNING:root:auto bandwidth for c2 very small or failed (h=0.0006603100213393599,N_eff=6852.0). Using fallback (h=0.02508751661221345)\n",
      "WARNING:root:auto bandwidth for yd very small or failed (h=0.0006774158199218338,N_eff=6852.0). Using fallback (h=0.022680740517766234)\n",
      "WARNING:root:auto bandwidth for lPE very small or failed (h=0.0006556079651216515,N_eff=6852.0). Using fallback (h=0.028570230598157526)\n"
     ]
    },
    {
     "name": "stdout",
     "output_type": "stream",
     "text": [
      "Removed no burn in\n"
     ]
    },
    {
     "name": "stderr",
     "output_type": "stream",
     "text": [
      "WARNING:root:auto bandwidth for lm very small or failed (h=0.0006242331610164435,N_eff=7859.0). Using fallback (h=0.02809431812801755)\n",
      "WARNING:root:auto bandwidth for c2 very small or failed (h=0.0005815266594423802,N_eff=7859.0). Using fallback (h=0.028892806438157215)\n",
      "WARNING:root:auto bandwidth for yd very small or failed (h=0.0005783303973602468,N_eff=7859.0). Using fallback (h=0.00907171683769302)\n",
      "WARNING:root:auto bandwidth for yb very small or failed (h=0.0006878161030654807,N_eff=7859.0). Using fallback (h=0.019427941331261224)\n",
      "WARNING:root:auto bandwidth for lPE very small or failed (h=0.0006335251944368217,N_eff=7859.0). Using fallback (h=0.02761520529786231)\n"
     ]
    },
    {
     "name": "stdout",
     "output_type": "stream",
     "text": [
      "Removed no burn in\n",
      "Removed no burn in\n"
     ]
    },
    {
     "name": "stderr",
     "output_type": "stream",
     "text": [
      "WARNING:root:auto bandwidth for lm very small or failed (h=0.0006154843265909611,N_eff=7412.0). Using fallback (h=0.021650104919790945)\n",
      "WARNING:root:auto bandwidth for r1 very small or failed (h=0.0006077571180997758,N_eff=7412.0). Using fallback (h=0.018174969624786583)\n",
      "WARNING:root:auto bandwidth for yd very small or failed (h=0.000617511627167402,N_eff=7412.0). Using fallback (h=0.022167400284642657)\n"
     ]
    },
    {
     "name": "stdout",
     "output_type": "stream",
     "text": [
      "Removed no burn in\n"
     ]
    },
    {
     "name": "stderr",
     "output_type": "stream",
     "text": [
      "WARNING:root:auto bandwidth for lPE very small or failed (h=0.0006661468882562237,N_eff=6886.0). Using fallback (h=0.010062504452463785)\n"
     ]
    },
    {
     "name": "stdout",
     "output_type": "stream",
     "text": [
      "Removed no burn in\n"
     ]
    },
    {
     "name": "stderr",
     "output_type": "stream",
     "text": [
      "WARNING:root:auto bandwidth for lm very small or failed (h=0.0006608856238023372,N_eff=7474.0). Using fallback (h=0.011031174022661882)\n",
      "WARNING:root:auto bandwidth for r1 very small or failed (h=0.0005988313362548621,N_eff=7474.0). Using fallback (h=0.028830452399041126)\n"
     ]
    },
    {
     "name": "stdout",
     "output_type": "stream",
     "text": [
      "Removed no burn in\n"
     ]
    },
    {
     "name": "stderr",
     "output_type": "stream",
     "text": [
      "WARNING:root:auto bandwidth for c2 very small or failed (h=0.0007728850900588468,N_eff=5747.0). Using fallback (h=0.02516905912093278)\n",
      "WARNING:root:auto bandwidth for yd very small or failed (h=0.0007873538443586171,N_eff=5747.0). Using fallback (h=0.0248098424902336)\n"
     ]
    },
    {
     "name": "stdout",
     "output_type": "stream",
     "text": [
      "Removed no burn in\n"
     ]
    },
    {
     "name": "stderr",
     "output_type": "stream",
     "text": [
      "WARNING:root:auto bandwidth for c2 very small or failed (h=0.0006825085885638773,N_eff=5070.0). Using fallback (h=0.026657704839973602)\n",
      "WARNING:root:auto bandwidth for r1 very small or failed (h=0.0006897413127948751,N_eff=5070.0). Using fallback (h=0.024365734018098526)\n",
      "WARNING:root:auto bandwidth for lPE very small or failed (h=0.0007527746562775146,N_eff=5070.0). Using fallback (h=0.01964161997010802)\n",
      "WARNING:root:auto bandwidth for ldPE very small or failed (h=0.0006973854917077598,N_eff=5070.0). Using fallback (h=0.01723425082838823)\n"
     ]
    },
    {
     "name": "stdout",
     "output_type": "stream",
     "text": [
      "Removed no burn in\n",
      "Removed no burn in\n"
     ]
    },
    {
     "name": "stderr",
     "output_type": "stream",
     "text": [
      "WARNING:root:auto bandwidth for lPE very small or failed (h=0.0007889297300992559,N_eff=4729.0). Using fallback (h=0.024559743967783976)\n"
     ]
    }
   ],
   "source": [
    "for prior in tqdm(['flat_reg','lcdm_reg']):\n",
    "    for gal in tqdm(list(sparcd[prior].keys())):\n",
    "        for fit in ['nfw','sidm']:\n",
    "            try:\n",
    "                fit_fit = 'cusp_fit' if fit == 'nfw' else 'core_fit'\n",
    "                sparcd[prior][gal][fit_fit]['lPE']\n",
    "                check = True\n",
    "            except:\n",
    "                check = False\n",
    "            if check:\n",
    "                continue\n",
    "            bulge = sparcd[prior][gal]['bulge']\n",
    "            data = np.load('../../obs_RC_v4/Output/cluster_out/%s_fit/%s/%s.npy'%(fit,prior,gal),allow_pickle=True)[()]\n",
    "            samp = data['samples']\n",
    "            pnam = ['lm','c2','yd'] if fit == 'nfw' else ['lm','c2','r1','yd']\n",
    "            if bulge:\n",
    "                pnam.append('yb')\n",
    "            getsamples = MCSamples(samples = samp,\n",
    "                                labels = pnam,\n",
    "                                names = ['%s'%x for x in pnam],\n",
    "                                settings = dict(smooth_scale_2D = 2),\n",
    "                                sampler = 'nested')\n",
    "            a = getsamples.getParams()\n",
    "            a_lm = a.lm\n",
    "            a_c2 = a.c2\n",
    "            if fit == 'sidm':\n",
    "                a_r1 = a.r1\n",
    "\n",
    "            a_rs = pnp.rs_nfw(a_lm,a_c2)\n",
    "            a_PE = []\n",
    "            if fit == 'nfw':\n",
    "                for lm,rs in zip(a_lm,a_rs):\n",
    "                    a_PE.append(pp.PE_cusp(lm,rs)) \n",
    "            elif fit == 'sidm':\n",
    "                a_dPE = []\n",
    "                for lm,rs,rc in zip(a_lm,a_rs,a_r1):\n",
    "                    a_PE.append(pp.PE_core(lm,rs,rc))\n",
    "                    a_dPE.append(pp.PE_diff(lm,rs,rc))\n",
    "                a_dPE = np.array(a_dPE)\n",
    "            a_PE = np.array(a_PE)\n",
    "            \n",
    "                \n",
    "            getsamples.addDerived(paramVec = np.log10(-a_PE), name = 'lPE')\n",
    "            if fit == 'sidm':\n",
    "                getsamples.addDerived(paramVec = np.log10(np.abs(a_dPE)),name = 'ldPE')\n",
    "            stats = getsamples.getMargeStats()\n",
    "            PE_avg = getsamples.mean('lPE')\n",
    "            PE_lim = stats.parWithName('lPE').limits\n",
    "            PE_m,PE_p = PE_lim[0].lower, PE_lim[0].upper\n",
    "            if fit == 'nfw':\n",
    "                PE_err = getsamples.sddev[-1]\n",
    "                sparcd[prior][gal]['cusp_fit']['lPE'] = [PE_avg,PE_err,PE_m,PE_p]\n",
    "            if fit == 'sidm':\n",
    "                PE_err = getsamples.sddev[-2]\n",
    "                sparcd[prior][gal]['core_fit']['lPE'] = [PE_avg,PE_err,PE_m,PE_p]\n",
    "                dPE_lim = stats.parWithName('ldPE').limits\n",
    "                sparcd[prior][gal]['core_fit']['ldPE'] = [getsamples.mean('ldPE'),getsamples.sddev[-1],\n",
    "                                                         dPE_lim[0].lower,dPE_lim[0].upper]\n",
    "                \n",
    "            # if fit == 'sidm':\n",
    "            #     g = plots.get_single_plotter(width_inch=4)\n",
    "            #     g.plot_1d(getsamples, 'ldPE')\n",
    "            #     stats = getsamples.getMargeStats()\n",
    "            #     m2_limits = stats.parWithName('ldPE').limits\n",
    "            #     ax = g.get_axes()\n",
    "            #     # ax.set_xscale('log')\n",
    "            #     g.add_x_marker(getsamples.mean('ldPE'))\n",
    "            #     g.add_x_marker(m2_limits[0].lower,color = 'g',lw = 4)\n",
    "            #     g.add_x_marker(m2_limits[0].upper,color = 'r',lw = 4)\n",
    "            #     print (m2_limits[0].lower)"
   ]
  },
  {
   "cell_type": "code",
   "execution_count": 34,
   "id": "6a2560e5-bb83-4d85-9667-1dc2ed37e585",
   "metadata": {},
   "outputs": [],
   "source": [
    "# json.dump(sparcd, open('../Output/sparc_new_dict.json','w'),indent = 2)"
   ]
  }
 ],
 "metadata": {
  "kernelspec": {
   "display_name": "Python 3 (ipykernel)",
   "language": "python",
   "name": "python3"
  },
  "language_info": {
   "codemirror_mode": {
    "name": "ipython",
    "version": 3
   },
   "file_extension": ".py",
   "mimetype": "text/x-python",
   "name": "python",
   "nbconvert_exporter": "python",
   "pygments_lexer": "ipython3",
   "version": "3.10.6"
  }
 },
 "nbformat": 4,
 "nbformat_minor": 5
}
